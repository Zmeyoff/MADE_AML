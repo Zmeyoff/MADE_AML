{
 "cells": [
  {
   "cell_type": "markdown",
   "metadata": {},
   "source": [
    "# Продвинутое машинное обучение: \n",
    "## Домашнее задание 2"
   ]
  },
  {
   "cell_type": "code",
   "execution_count": 1,
   "metadata": {},
   "outputs": [],
   "source": [
    "import pickle\n",
    "import pandas as pd\n",
    "import numpy as np\n",
    "import matplotlib.pyplot as plt\n",
    "import scipy.stats as sps\n",
    "import zipfile\n",
    "from sklearn.linear_model import LogisticRegression\n",
    "from sklearn.preprocessing import OneHotEncoder\n",
    "from tqdm.notebook import tqdm\n",
    "from scipy.sparse import csr_matrix, vstack"
   ]
  },
  {
   "cell_type": "markdown",
   "metadata": {},
   "source": [
    "## Task 1"
   ]
  },
  {
   "cell_type": "markdown",
   "metadata": {},
   "source": [
    " Прочитайте и проанализируйте данные, выберите турниры, в которых есть данные\n",
    "о составах команд и повопросных результатах (поле *mask* в results.pkl). Для\n",
    "унификации предлагаю:\n",
    " - взять в тренировочный набор турниры с dateStart из 2019 года;\n",
    " - в тестовый — турниры с dateStart из 2020 года."
   ]
  },
  {
   "cell_type": "code",
   "execution_count": 2,
   "metadata": {},
   "outputs": [],
   "source": [
    "tournaments = pickle.load(open('data/tournaments.pkl', 'rb'))\n",
    "results = pickle.load(open('data/results.pkl', 'rb'))\n",
    "players = pickle.load(open('data/players.pkl', 'rb'))"
   ]
  },
  {
   "cell_type": "code",
   "execution_count": 3,
   "metadata": {},
   "outputs": [],
   "source": [
    "tournaments_train = {key: value for key, value in tournaments.items() if value['dateStart'][:4] == '2019'}\n",
    "tournaments_test = {key: value for key, value in tournaments.items() if value['dateStart'][:4] == '2020'}"
   ]
  },
  {
   "cell_type": "code",
   "execution_count": 4,
   "metadata": {
    "scrolled": true
   },
   "outputs": [
    {
     "name": "stdout",
     "output_type": "stream",
     "text": [
      "Number of tournaments in the train set: 687\n",
      "Number of tournaments in the test set: 418\n"
     ]
    }
   ],
   "source": [
    "print(f'Number of tournaments in the train set: {len(tournaments_train)}')\n",
    "print(f'Number of tournaments in the test set: {len(tournaments_test)}')"
   ]
  },
  {
   "cell_type": "code",
   "execution_count": 5,
   "metadata": {
    "scrolled": false
   },
   "outputs": [],
   "source": [
    "#искал Ростов\n",
    "#for i in tournaments_train:\n",
    "#    print(i, tournaments_train[i]['name'])"
   ]
  },
  {
   "cell_type": "code",
   "execution_count": 6,
   "metadata": {},
   "outputs": [
    {
     "name": "stdout",
     "output_type": "stream",
     "text": [
      "Sample of the tournament object:\n"
     ]
    },
    {
     "data": {
      "text/plain": [
       "{'id': 5449,\n",
       " 'name': 'Кубок Ростова',\n",
       " 'dateStart': '2019-02-24T00:00:00+03:00',\n",
       " 'dateEnd': '2019-04-28T18:00:00+03:00',\n",
       " 'type': {'id': 2, 'name': 'Обычный'},\n",
       " 'season': '/seasons/52',\n",
       " 'orgcommittee': [{'id': 59103,\n",
       "   'name': 'Сергей',\n",
       "   'patronymic': 'Валерьевич',\n",
       "   'surname': 'Стадник'},\n",
       "  {'id': 61986,\n",
       "   'name': 'Екатерина',\n",
       "   'patronymic': 'Александровна',\n",
       "   'surname': 'Эйзнер'},\n",
       "  {'id': 17343,\n",
       "   'name': 'Игорь',\n",
       "   'patronymic': 'Владимирович',\n",
       "   'surname': 'Куприянов'},\n",
       "  {'id': 40552,\n",
       "   'name': 'Сергей',\n",
       "   'patronymic': 'Вячеславович',\n",
       "   'surname': 'Литвинов'},\n",
       "  {'id': 34361,\n",
       "   'name': 'Алексей',\n",
       "   'patronymic': 'Витальевич',\n",
       "   'surname': 'Цветянский'},\n",
       "  {'id': 133,\n",
       "   'name': 'Андрей',\n",
       "   'patronymic': 'Леонидович',\n",
       "   'surname': 'Абрамов'},\n",
       "  {'id': 24291,\n",
       "   'name': 'Андрей',\n",
       "   'patronymic': 'Юрьевич',\n",
       "   'surname': 'Пастушенко'}],\n",
       " 'synchData': None,\n",
       " 'questionQty': {'1': 12,\n",
       "  '2': 12,\n",
       "  '3': 12,\n",
       "  '4': 12,\n",
       "  '5': 12,\n",
       "  '6': 12,\n",
       "  '7': 12,\n",
       "  '8': 12,\n",
       "  '9': 12}}"
      ]
     },
     "execution_count": 6,
     "metadata": {},
     "output_type": "execute_result"
    }
   ],
   "source": [
    "print('Sample of the tournament object:')\n",
    "tournaments_train[5449]"
   ]
  },
  {
   "cell_type": "code",
   "execution_count": 7,
   "metadata": {
    "scrolled": false
   },
   "outputs": [
    {
     "name": "stdout",
     "output_type": "stream",
     "text": [
      "Sample of the results object:\n",
      "Number of teams: 8\n",
      "Team results:\n"
     ]
    },
    {
     "data": {
      "text/plain": [
       "{'team': {'id': 4795,\n",
       "  'name': 'Большая Берта',\n",
       "  'town': {'id': 277, 'name': 'Ростов-на-Дону'}},\n",
       " 'mask': '1100010101101111011111110101101010111010000001101001000001011111000010110101100010010010011X1110000000000000',\n",
       " 'current': {'name': 'Большая Берта',\n",
       "  'town': {'id': 277, 'name': 'Ростов-на-Дону'}},\n",
       " 'questionsTotal': 50,\n",
       " 'synchRequest': None,\n",
       " 'position': 1,\n",
       " 'controversials': [],\n",
       " 'flags': [],\n",
       " 'teamMembers': [{'flag': 'К',\n",
       "   'usedRating': 7857,\n",
       "   'rating': 7857,\n",
       "   'player': {'id': 34361,\n",
       "    'name': 'Алексей',\n",
       "    'patronymic': 'Витальевич',\n",
       "    'surname': 'Цветянский'}},\n",
       "  {'flag': 'Б',\n",
       "   'usedRating': 6548,\n",
       "   'rating': 7857,\n",
       "   'player': {'id': 59103,\n",
       "    'name': 'Сергей',\n",
       "    'patronymic': 'Валерьевич',\n",
       "    'surname': 'Стадник'}},\n",
       "  {'flag': 'Б',\n",
       "   'usedRating': 5238,\n",
       "   'rating': 7857,\n",
       "   'player': {'id': 60252,\n",
       "    'name': 'Наталья',\n",
       "    'patronymic': 'Григорьевна',\n",
       "    'surname': 'Стадник'}},\n",
       "  {'flag': 'Б',\n",
       "   'usedRating': 3857,\n",
       "   'rating': 7713,\n",
       "   'player': {'id': 66121,\n",
       "    'name': 'Андрей',\n",
       "    'patronymic': 'Владимирович',\n",
       "    'surname': 'Андреев'}},\n",
       "  {'flag': 'Б',\n",
       "   'usedRating': 2550,\n",
       "   'rating': 7650,\n",
       "   'player': {'id': 6589,\n",
       "    'name': 'Юлия',\n",
       "    'patronymic': 'Владимировна',\n",
       "    'surname': 'Цветянская'}},\n",
       "  {'flag': 'Б',\n",
       "   'usedRating': 1249,\n",
       "   'rating': 7493,\n",
       "   'player': {'id': 37518,\n",
       "    'name': 'Григорий',\n",
       "    'patronymic': 'Викторович',\n",
       "    'surname': 'Ященко'}},\n",
       "  {'flag': None,\n",
       "   'usedRating': 0,\n",
       "   'rating': 6550,\n",
       "   'player': {'id': 163947,\n",
       "    'name': 'Александр',\n",
       "    'patronymic': 'Александрович',\n",
       "    'surname': 'Гришин'}}]}"
      ]
     },
     "execution_count": 7,
     "metadata": {},
     "output_type": "execute_result"
    }
   ],
   "source": [
    "print('Sample of the results object:')\n",
    "print(f'Number of teams: {len(results[5449])}')\n",
    "print('Team results:')\n",
    "results[5449][0]"
   ]
  },
  {
   "cell_type": "code",
   "execution_count": 8,
   "metadata": {},
   "outputs": [],
   "source": [
    "player_ids_train = set()\n",
    "for tournament_id in tournaments_train.keys():\n",
    "    for team in results[tournament_id]:\n",
    "        for player in team['teamMembers']:\n",
    "            player_ids_train.add(player['player']['id'])\n",
    "player_ids_train = list(player_ids_train)"
   ]
  },
  {
   "cell_type": "code",
   "execution_count": 9,
   "metadata": {},
   "outputs": [
    {
     "name": "stdout",
     "output_type": "stream",
     "text": [
      "Number of players in train data: 59224\n"
     ]
    }
   ],
   "source": [
    "print(f'Number of players in train data: {len(player_ids_train)}')"
   ]
  },
  {
   "cell_type": "code",
   "execution_count": 10,
   "metadata": {},
   "outputs": [
    {
     "name": "stdout",
     "output_type": "stream",
     "text": [
      "Sample of the player object:\n"
     ]
    },
    {
     "data": {
      "text/plain": [
       "{'id': 131077,\n",
       " 'name': 'Паруйр',\n",
       " 'patronymic': 'Паруйрович',\n",
       " 'surname': 'Аланакян'}"
      ]
     },
     "execution_count": 10,
     "metadata": {},
     "output_type": "execute_result"
    }
   ],
   "source": [
    "print('Sample of the player object:')\n",
    "players[player_ids_train[0]]"
   ]
  },
  {
   "cell_type": "markdown",
   "metadata": {},
   "source": [
    "## Task 2"
   ]
  },
  {
   "cell_type": "markdown",
   "metadata": {},
   "source": [
    "Постройте baseline-модель на основе линейной или логистической регрессии, которая будет обучать рейтинг-лист игроков. Замечания и подсказки:\n",
    " - повопросные результаты — это фактически результаты броска монетки, и их предсказание скорее всего имеет отношение к бинарной классификации;\n",
    " - в разных турнирах вопросы совсем разного уровня сложности, поэтому модель должна это учитывать; скорее всего, модель должна будет явно обучать не только силу каждого игрока, но и сложность каждого вопроса;\n",
    " - в разных турнирах вопросы совсем разного уровня сложности, поэтому модель должна это учитывать; скорее всего, модель должна будет явно обучать не только силу каждого игрока, но и сложность каждого вопроса;\n",
    " - для baseline-модели можно забыть о командах и считать, что повопросные результаты команды просто относятся к каждому из её игроков."
   ]
  },
  {
   "cell_type": "markdown",
   "metadata": {},
   "source": [
    "Пусть $Q$ — случайная величина, сложность вопроса, где вопрос выбирается равновероятно из всей базы вопросов. $X_{i}$ — случайная величина, служащая индикатором того, что игрок с индексом $i$ ответил на вопрос."
   ]
  },
  {
   "cell_type": "markdown",
   "metadata": {},
   "source": [
    "Предположим, что нам известна сложность конкретного вопроса. Тогда для каждого игрока мы можем обучить модель для вероятности $P(X_i|Q=q)$."
   ]
  },
  {
   "cell_type": "markdown",
   "metadata": {},
   "source": [
    "В качестве рейтинга игрока возьмём матожидание $X_i$ по распределению вопросов в базе:\n",
    "$$\n",
    "E_{Q}[X_i] = \\int_{D(Q)} P(X_i|Q = q) p_Q(q) dq.\n",
    "$$\n",
    "Это будет означать матожидание того, что игрок ответит на случайно взятый из базы вопрос. Таким образом, у рейтинга будет конкретная вероятностная интерпретация, которую можно использовать для дальнейшего вывода."
   ]
  },
  {
   "cell_type": "markdown",
   "metadata": {},
   "source": [
    "Тогда для построения рейтинга необходимо:\n",
    "  1. Предложить способ подсчёта q для конкретного вопроса.\n",
    "  2. Найти (аппроксимировать) распределение для Q.\n",
    "  3. Построить модель для $P(X_i|Q=q)$.\n",
    "  4. Вычислить интеграл для матожидания (можно численно)."
   ]
  },
  {
   "cell_type": "markdown",
   "metadata": {},
   "source": [
    "1) Предложить способ подсчёта q для конкретного вопроса.  \n",
    "Было бы хорошо вычислять q вопроса как вероятность того, что случайно взятый игрок из базы правильно ответит на этот вопрос. Но в действительности такую вероятность сложно или невозможно оценить из существующего набора данных, так как каждый вопрос играется в рамках одного турнира, а турнир в свою очередь как правило объединяет команды похожие по уровню и содержит соответствующие по сложности вопросы. Если некоторый вопрос взяло большое количество команд, это может свидетельствовать не о лёгкости вопроса относительно других вопросов в базе, а о том, что турнир играют сильные команды. Тем не менее, **сделаем предположение**, что вероятность взять вопрос не зависит от турнира. В рамках этого предположения q будет иметь нужную интерпретацию и легко вычисляться из данных по формуле\n",
    "$$\n",
    "q = \\frac{\\text{# игроки, взявшие вопрос}}{\\text{# игроки в турнире}}.\n",
    "$$\n",
    "Также будем считать, что если команда взяла вопрос, то и все игроки взяли этот вопрос. Это конечно не так и завысит по итогу рейтинг всех игроков."
   ]
  },
  {
   "cell_type": "code",
   "execution_count": 11,
   "metadata": {},
   "outputs": [],
   "source": [
    "df_answers = {'q_idx': [], 't_idx': [], 'p_idx': [], 'ans': []}\n",
    "for t_index in tournaments_train.keys():\n",
    "    for result in results[t_index]:\n",
    "        if 'mask' in result.keys() and result['mask'] is not None:\n",
    "            for i, ans in enumerate(result['mask']):\n",
    "                if not (ans == '0' or ans == '1'):\n",
    "                    break\n",
    "                q_idx = t_index*10000 + i\n",
    "                for player in result['teamMembers']:\n",
    "                    df_answers['q_idx'].append(q_idx)\n",
    "                    df_answers['t_idx'].append(result['team']['id'])\n",
    "                    df_answers['p_idx'].append(player['player']['id'])\n",
    "                    df_answers['ans'].append(int(ans))\n",
    "df_answers = pd.DataFrame.from_dict(df_answers)"
   ]
  },
  {
   "cell_type": "code",
   "execution_count": 12,
   "metadata": {},
   "outputs": [],
   "source": [
    "q_counts = df_answers['q_idx'].value_counts()\n",
    "ans_counts = df_answers[df_answers['ans'] == 1]['q_idx'].value_counts()\n",
    "q_diff = pd.Series(np.zeros(len(df_answers['q_idx'].unique()), dtype=float),\n",
    "                      index=df_answers['q_idx'].unique())\n",
    "for q_idx in q_diff.index:\n",
    "    if q_idx in ans_counts.index:\n",
    "        q_diff[q_idx] = ans_counts[q_idx] / q_counts[q_idx]"
   ]
  },
  {
   "cell_type": "code",
   "execution_count": 13,
   "metadata": {},
   "outputs": [
    {
     "data": {
      "text/plain": [
       "47720000    0.892295\n",
       "47720001    0.776305\n",
       "47720002    0.463132\n",
       "47720003    0.541839\n",
       "47720004    0.888981\n",
       "dtype: float64"
      ]
     },
     "execution_count": 13,
     "metadata": {},
     "output_type": "execute_result"
    }
   ],
   "source": [
    "q_diff.head()"
   ]
  },
  {
   "cell_type": "markdown",
   "metadata": {},
   "source": [
    "2) Найти (аппроксимировать) распределение для Q."
   ]
  },
  {
   "cell_type": "code",
   "execution_count": 14,
   "metadata": {
    "scrolled": true
   },
   "outputs": [
    {
     "data": {
      "text/plain": [
       "<AxesSubplot:>"
      ]
     },
     "execution_count": 14,
     "metadata": {},
     "output_type": "execute_result"
    },
    {
     "data": {
      "image/png": "[encoded data removed]",
      "text/plain": [
       "<Figure size 432x288 with 1 Axes>"
      ]
     },
     "metadata": {
      "needs_background": "light"
     },
     "output_type": "display_data"
    }
   ],
   "source": [
    "q_diff.hist(bins=50)"
   ]
  },
  {
   "cell_type": "markdown",
   "metadata": {},
   "source": [
    "Распределение не похоже на какое-то известное, поэтому формулой его аппроксимировать не получится. Возьмём эмпирическое распределение на основе гистограммы."
   ]
  },
  {
   "cell_type": "code",
   "execution_count": 15,
   "metadata": {},
   "outputs": [
    {
     "name": "stdout",
     "output_type": "stream",
     "text": [
      "Sanity check: 0.9999999999999999\n"
     ]
    }
   ],
   "source": [
    "n_bins = 50\n",
    "bounds = np.stack([np.linspace(0, 1, n_bins+1)[:-1], np.linspace(0, 1, n_bins+1)[1:]]).T\n",
    "diff_space = bounds.mean(axis=1).reshape((-1, 1))\n",
    "diff_probs = np.array([((q_diff >= bound[0]) & (q_diff < bound[1])).sum() for bound in bounds])\n",
    "diff_probs[-1] += (q_diff == 1).sum()\n",
    "diff_probs = diff_probs / len(q_diff)\n",
    "print(f'Sanity check: {diff_probs.sum()}')"
   ]
  },
  {
   "cell_type": "code",
   "execution_count": 16,
   "metadata": {
    "scrolled": true
   },
   "outputs": [
    {
     "data": {
      "image/png": "[encoded data removed]",
      "text/plain": [
       "<Figure size 432x288 with 1 Axes>"
      ]
     },
     "metadata": {
      "needs_background": "light"
     },
     "output_type": "display_data"
    }
   ],
   "source": [
    "plt.plot(diff_space, diff_probs)\n",
    "plt.title('Empirical probabilities')\n",
    "plt.show()"
   ]
  },
  {
   "cell_type": "markdown",
   "metadata": {},
   "source": [
    "3) Построить модель для $P(X_i|Q=q)$.  \n",
    "В качестве модели для каждого игрока в отдельности построим логистическую регрессию, единственным признаком которой будет сложность вопроса.\n",
    "$$\n",
    "P(X_i | Q=q) = \\sigma(wq + w_0).\n",
    "$$"
   ]
  },
  {
   "cell_type": "markdown",
   "metadata": {},
   "source": [
    "4) Вычислить интеграл для матожидания (можно численно).  \n",
    "Для каждого игрока сделаем предсказание для вопросов различной сложности и усредним с весами из *diff_probs*."
   ]
  },
  {
   "cell_type": "code",
   "execution_count": 17,
   "metadata": {},
   "outputs": [],
   "source": [
    "df_answers['q_diff'] = q_diff[df_answers['q_idx'].values].values"
   ]
  },
  {
   "cell_type": "code",
   "execution_count": null,
   "metadata": {},
   "outputs": [
    {
     "data": {
      "application/vnd.jupyter.widget-view+json": {
       "model_id": "49ff1233980644f1bfb5046bf1c2ad69",
       "version_major": 2,
       "version_minor": 0
      },
      "text/plain": [
       "  0%|          | 0/59224 [00:00<?, ?it/s]"
      ]
     },
     "metadata": {},
     "output_type": "display_data"
    }
   ],
   "source": [
    "p_rates = pd.Series(np.zeros(len(player_ids_train), dtype=float),\n",
    "                      index=player_ids_train)\n",
    "for idx in tqdm(player_ids_train):\n",
    "    p_df = df_answers[df_answers['p_idx'] == idx]\n",
    "    model = LogisticRegression() #LogisticRegression(C=10, solver='saga', tol=0.1)\n",
    "    try:\n",
    "        model.fit(p_df[['q_diff']], p_df['ans'])\n",
    "        preds = model.predict_proba(diff_space)[:, 1]\n",
    "        rate = np.dot(preds, diff_probs)\n",
    "        p_rates[idx] = rate\n",
    "    except ValueError:\n",
    "        if not 0 in p_df['ans'].values:\n",
    "            p_rates[idx] = 1"
   ]
  },
  {
   "cell_type": "code",
   "execution_count": null,
   "metadata": {},
   "outputs": [],
   "source": [
    "p_rates.to_csv('data/p_rates.csv')"
   ]
  },
  {
   "cell_type": "markdown",
   "metadata": {},
   "source": [
    "Посмотрим на распределение получившихся рейтингов:"
   ]
  },
  {
   "cell_type": "code",
   "execution_count": null,
   "metadata": {
    "scrolled": true
   },
   "outputs": [],
   "source": [
    "p_rates.hist(bins=100)"
   ]
  },
  {
   "cell_type": "code",
   "execution_count": null,
   "metadata": {},
   "outputs": [],
   "source": [
    "p_rates.describe()"
   ]
  },
  {
   "cell_type": "markdown",
   "metadata": {},
   "source": [
    "Во время обучения встречались игроки, которые не ответили ни на один вопрос, либо ответили на все. В таком случае рейтинг равен 0 или 1, так как логистическую регрессию для них обучить невозможно."
   ]
  },
  {
   "cell_type": "markdown",
   "metadata": {},
   "source": [
    "Рейтинг игроков, находящихся в первой десятке по официальному рейтингу на сайте рейтинга чгк (релиз 25 декабря 2020 года):"
   ]
  },
  {
   "cell_type": "code",
   "execution_count": null,
   "metadata": {},
   "outputs": [],
   "source": [
    "top_idxs =[30152, 28751, 27822, 30270, 27403, 4270, 18332, 18036, 6482, 22799]\n",
    "for place, idx in enumerate(top_idxs, 1):\n",
    "    player = players[idx]\n",
    "    print(f\"{place}. {player['name']} {player['patronymic']} {player['surname']}: {p_rates[idx]}\")"
   ]
  },
  {
   "cell_type": "markdown",
   "metadata": {},
   "source": [
    "Лучшие 10 игроков по полученному рейтингу (не учитывая игроков с рейтингом 1):"
   ]
  },
  {
   "cell_type": "code",
   "execution_count": null,
   "metadata": {},
   "outputs": [],
   "source": [
    "for place, idx in enumerate(p_rates[p_rates != 1].sort_values(ascending=False).index[:10], 1):\n",
    "    player = players[idx]\n",
    "    print(f\"{place}. {player['name']} {player['patronymic']} {player['surname']}: {p_rates[idx]}\")"
   ]
  },
  {
   "cell_type": "markdown",
   "metadata": {},
   "source": [
    "## Task 3"
   ]
  },
  {
   "cell_type": "markdown",
   "metadata": {},
   "source": [
    "Качество рейтинг-системы оценивается качеством предсказаний результатов турниров. Но сами повопросные результаты наши модели предсказывать вряд ли смогут, ведь неизвестно, насколько сложными окажутся вопросы в будущих турнирах; да и не нужны эти предсказания сами по себе. Поэтому:\n",
    " - предложите способ предсказать результаты нового турнира с известными составами, но неизвестными вопросами, в виде ранжирования команд;\n",
    " - в качестве метрики качества на тестовом наборе давайте считать ранговые корреляции Спирмена и Кендалла (их можно взять в пакете *scipy*) между реальным ранжированием в результатах турнира и предсказанным моделью, усреднённые по тестовому множеству турниров."
   ]
  },
  {
   "cell_type": "markdown",
   "metadata": {},
   "source": [
    "Для определения рейтинга команды воспользуемся вероятностной интерпретацией. Если рейтинг i-го игрока $r_i$ равен вероятности взять им случайный вопрос, тогда вероятность взять вопрос командой $T$ равна\n",
    "$$\n",
    "r_T = 1 - \\prod_{i \\in T} \\left(1 - r_i\\right).\n",
    "$$\n",
    "Данная вероятность относится не к конкретному турниру, а к \"среднему\" вопросу из выборки, но по ней можно отсортировать команды турнира.  \n",
    "Для игроков, которых не было в тренировочном наборе, будем использовать просто среднее значение рейтинга."
   ]
  },
  {
   "cell_type": "code",
   "execution_count": null,
   "metadata": {},
   "outputs": [],
   "source": [
    "def evaluate_team(team):\n",
    "    res = 1\n",
    "    for player in team:\n",
    "        if player['player']['id'] in p_rates.index:\n",
    "            p = p_rates[player['player']['id']]\n",
    "        else:\n",
    "            p = p_rates.mean()\n",
    "        res *= (1 - p)\n",
    "    return 1 - res"
   ]
  },
  {
   "cell_type": "code",
   "execution_count": null,
   "metadata": {},
   "outputs": [],
   "source": [
    "num_tournaments = 0\n",
    "spearman_coef = 0\n",
    "kendall_coef = 0\n",
    "for t_idx in tournaments_test.keys():\n",
    "    if not results[t_idx]:\n",
    "        continue\n",
    "    if not 'position' in results[t_idx][0].keys():\n",
    "        continue\n",
    "    ranks_pred = np.zeros(len(results[t_idx]))\n",
    "    ranks_true = np.zeros(len(results[t_idx]))\n",
    "    for i, result in enumerate(results[t_idx]):\n",
    "        ranks_true[i] = result['position']\n",
    "        ranks_pred[i] = evaluate_team(result['teamMembers'])\n",
    "    spearman_coef_curr = sps.spearmanr(ranks_pred, -ranks_true)[0]\n",
    "    kendall_coef_curr = sps.kendalltau(ranks_pred, -ranks_true)[0]\n",
    "    if not (np.isnan(spearman_coef_curr) or np.isnan(kendall_coef_curr)):\n",
    "        spearman_coef += spearman_coef_curr\n",
    "        kendall_coef += kendall_coef_curr\n",
    "        num_tournaments += 1\n",
    "print(f'Average Spearman correlation: {spearman_coef/num_tournaments}')\n",
    "print(f'Average Kendall correlation: {kendall_coef/num_tournaments}')"
   ]
  },
  {
   "cell_type": "markdown",
   "metadata": {},
   "source": [
    "## Task 4"
   ]
  },
  {
   "cell_type": "markdown",
   "metadata": {},
   "source": [
    "Теперь главное: ЧГК — это всё-таки командная игра. Поэтому:\n",
    " - предложите способ учитывать то, что на вопрос отвечают сразу несколько игроков; скорее всего, понадобятся скрытые переменные; не стесняйтесь делать упрощающие предположения, но теперь переменные “игрок X ответил на вопрос Y” при условии данных должны стать зависимыми для игроков одной и той же команды;\n",
    " - разработайте EM-схему для обучения этой модели, реализуйте её в коде;\n",
    " - обучите несколько итераций, убедитесь, что целевые метрики со временем растут (скорее всего, ненамного, но расти должны), выберите лучшую модель, используя целевые метрики."
   ]
  },
  {
   "cell_type": "markdown",
   "metadata": {},
   "source": [
    "Введём скрытую переменную z, обозначающую какие именно игроки взяли вопрос в команде. Если например в команде 6 игроков, и из них вопрос взяли второй и шестой игрок, то для этой комадны для данного вопроса $z = (0, 1, 0, 0, 0, 1)$. Пусть теперь $Q$ - множество всех вопросов, $T_i$ - множество команд, ответивших на $i$-й вопрос, а $M_j$ - множество игроков $j$-й команды, $p_{ki}$ - вероятность того, что $k$-й игрок взял $i$-й вопрос (предсказание модели). Тогда правдоподобие данных при известном z будет выглядеть так:\n",
    "$$\n",
    "L(\\theta, z) = p(D|\\theta, z) = \\prod_{i \\in Q} \\prod_{j \\in T_i} \\prod_{k \\in M_j} p_{ki}(\\theta)^{z_{ijk}} (1 - p_{ki}(\\theta))^{1 - z_{ijk}}.\n",
    "$$\n",
    "Логарифм правдоподобия:\n",
    "$$\n",
    "l(\\theta, z) = \\sum_{i \\in Q} \\sum_{j \\in T_i} \\sum_{k \\in M_j} z_{ijk} \\ln{(p_{ki}(\\theta))} + (1 - z_{ijk}) \\ln {(1 - p_{ki}(\\theta))}.\n",
    "$$\n",
    "По свойству линейности матожидания:\n",
    "$$\n",
    "E_z[l(\\theta, z)] = \\sum_{i \\in Q} \\sum_{j \\in T_i} \\sum_{k \\in M_j} E[z_{ijk}] \\ln{(p_{ki}(\\theta))} + (1 - E[z_{ijk}]) \\ln {(1 - p_{ki}(\\theta))}.\n",
    "$$\n",
    "В EM-алгоритме на шаге M будем максимизировать найденное матожидание по $\\theta$. Для этого обучим логистическую регрессию. В отличие от бейзлайна будем обучать такую модель:\n",
    "$$\n",
    "p_{ki} = \\sigma(w_k + w_i),\n",
    "$$\n",
    "где $w_k$ - коэффициент рейтинга $k$-ого игрока, а $w_i$ - коэффициент сложности $i$-го вопроса (чем меньше, тем вопрос сложнее). Данные коэффициенты можно обучить максимизируя по ним матожидание например с помощью градиентного подъёма."
   ]
  },
  {
   "cell_type": "markdown",
   "metadata": {},
   "source": [
    "Теперь определим E-шаг. Если команда не взяла вопрос, то нам наверняка известно что никто из игроков его не взял и $E[z_{ijk}] = 0$. В случае, если команда взяла вопрос, мы не знаем, кто именно из игроков это сделал. Пусть $A_T$ - событие того, что команда правильно ответила на вопрос, $A_i$ - событие того, что $i$-й игрок ответил на вопрос. С помощью модели мы можем предсказать $p_i = P(A_i)$. Тогда\n",
    "$$\n",
    "P(A_i|A_T) = \\frac{P(A_i, A_T)}{P(A_T)} = \\frac{P(A_i)}{P(A_T)} = \\frac{P(A_i)}{1 - \\prod_{j \\in M} (1 - P(A_j))}.\n",
    "$$\n",
    "Придерживаясь тех же обозначений, что и для M шага получаем:\n",
    "$$\n",
    "E[z_{ijk}] = \\frac{p_{ki}}{1 - \\prod_{l \\in M_j} (1 - p_{li})}\n",
    "$$"
   ]
  },
  {
   "cell_type": "code",
   "execution_count": null,
   "metadata": {},
   "outputs": [],
   "source": [
    "enc = OneHotEncoder(handle_unknown='ignore')\n",
    "enc.fit(df_answers[['p_idx', 'q_idx']])\n",
    "X = enc.transform(df_answers[['p_idx', 'q_idx']])"
   ]
  },
  {
   "cell_type": "code",
   "execution_count": null,
   "metadata": {},
   "outputs": [],
   "source": [
    "counts = np.array((X != 0).sum(axis=0)).ravel()"
   ]
  },
  {
   "cell_type": "code",
   "execution_count": null,
   "metadata": {},
   "outputs": [],
   "source": [
    "w = np.random.randn(X.shape[1])\n",
    "p = 1 / (1 + np.exp(-X.dot(w)))"
   ]
  },
  {
   "cell_type": "code",
   "execution_count": null,
   "metadata": {
    "scrolled": true
   },
   "outputs": [],
   "source": [
    "df_answers['p_neg'] = 1 - p\n",
    "dff = df_answers[['t_idx', 'q_idx', 'p_neg']].groupby(by=['t_idx', 'q_idx'], sort=False, as_index=False).prod()\n",
    "idx_from = (dff['t_idx'].apply(str) + dff['q_idx'].apply(str)).apply(int)\n",
    "idx_to = (df_answers['t_idx'].apply(str) + df_answers['q_idx'].apply(str)).apply(int)"
   ]
  },
  {
   "cell_type": "code",
   "execution_count": null,
   "metadata": {},
   "outputs": [],
   "source": [
    "def e_step(p):\n",
    "    df_answers['p_neg'] = 1 - p\n",
    "    prods = df_answers[['t_idx', 'q_idx', 'p_neg']].groupby(by=['t_idx', 'q_idx'], sort=False, as_index=False).prod()['p_neg']\n",
    "    prods.index = idx_from\n",
    "    prods = prods[idx_to].to_numpy()\n",
    "    z = p / (1 - prods)\n",
    "    z[df_answers['ans'] == 0] = 0\n",
    "    return z"
   ]
  },
  {
   "cell_type": "code",
   "execution_count": null,
   "metadata": {
    "scrolled": true
   },
   "outputs": [],
   "source": [
    "%%time\n",
    "z = e_step(p)\n",
    "print(f'p: {p}')\n",
    "print(f'z: {z}')"
   ]
  },
  {
   "cell_type": "markdown",
   "metadata": {},
   "source": [
    "Из-за того, что разные игроки играют в разное количество турниров, оптимальный шаг градиентного подъёма для каждого игрока свой (у тех кто больше играют - градиент больше, у других меньше), поэтому я нормирую градиент дополнительно на количество ненулевых элементов соответствующего признака. На практике это ускорило сходимость."
   ]
  },
  {
   "cell_type": "code",
   "execution_count": null,
   "metadata": {},
   "outputs": [],
   "source": [
    "def m_step(X, w, z, n_iters=50, alpha=3):\n",
    "    w = w.copy()\n",
    "    for _ in range(n_iters):\n",
    "        p = 1 / (1 + np.exp(-X.dot(w)))\n",
    "        grad = (X.T).dot(z * (1 - p) - (1 - z) * p) / counts\n",
    "        w = w + alpha * grad\n",
    "    return w"
   ]
  },
  {
   "cell_type": "code",
   "execution_count": null,
   "metadata": {},
   "outputs": [],
   "source": [
    "def log_likelihood(z, X, w):\n",
    "    p = 1 / (1 + np.exp(-X.dot(w)))\n",
    "    return np.mean(z * np.log(p) + (1 - z) * np.log(1 - p))"
   ]
  },
  {
   "cell_type": "code",
   "execution_count": null,
   "metadata": {
    "scrolled": false
   },
   "outputs": [],
   "source": [
    "%%time\n",
    "log_likelihood(z, X, w)"
   ]
  },
  {
   "cell_type": "code",
   "execution_count": null,
   "metadata": {},
   "outputs": [],
   "source": [
    "n_cycles = 50\n",
    "for i in tqdm(range(n_cycles)):\n",
    "    if i == 0:\n",
    "        p = 1 / (1 + np.exp(-X.dot(w)))\n",
    "        z = e_step(p)\n",
    "    w = m_step(X, w, z)\n",
    "    p = 1 / (1 + np.exp(-X.dot(w)))\n",
    "    z = e_step(p)\n",
    "    print(f'Log likelihood after cycle {i+1:3}: {log_likelihood(z, X, w)}.')"
   ]
  },
  {
   "cell_type": "code",
   "execution_count": null,
   "metadata": {},
   "outputs": [],
   "source": [
    "idx_to_position = {}\n",
    "for i, fname in enumerate(enc.get_feature_names()):\n",
    "    idx_to_position[int(fname[3:])] = i"
   ]
  },
  {
   "cell_type": "code",
   "execution_count": null,
   "metadata": {
    "scrolled": false
   },
   "outputs": [],
   "source": [
    "p_weights = pd.Series(np.zeros(len(df_answers['p_idx'].unique())),\n",
    "                      df_answers['p_idx'].unique())\n",
    "for player in df_answers['p_idx'].unique():\n",
    "    p_weights[player] = w[idx_to_position[player]]"
   ]
  },
  {
   "cell_type": "code",
   "execution_count": null,
   "metadata": {},
   "outputs": [],
   "source": [
    "q_weights = pd.Series(np.zeros(len(df_answers['q_idx'].unique())),\n",
    "                      df_answers['q_idx'].unique())\n",
    "for question in df_answers['q_idx'].unique():\n",
    "    q_weights[question] = w[idx_to_position[question]]"
   ]
  },
  {
   "cell_type": "markdown",
   "metadata": {},
   "source": [
    "Найдём распределение сложности вопросов"
   ]
  },
  {
   "cell_type": "code",
   "execution_count": null,
   "metadata": {},
   "outputs": [],
   "source": [
    "q_weights.hist(bins=100)"
   ]
  },
  {
   "cell_type": "markdown",
   "metadata": {},
   "source": [
    "Также как и для бейзлайна, для определения рейтинга игрока численно проинтегрируем вероятность игрока ответить на вопрос по распределению сложностей."
   ]
  },
  {
   "cell_type": "code",
   "execution_count": null,
   "metadata": {},
   "outputs": [],
   "source": [
    "n_bins = 100\n",
    "space = np.linspace(q_weights.min(), q_weights.max(), n_bins+1)\n",
    "bounds = np.stack([space[:-1], space[1:]]).T\n",
    "diff_space = bounds.mean(axis=1)\n",
    "diff_probs = np.array([((q_weights >= bound[0]) & (q_weights < bound[1])).sum() for bound in bounds])\n",
    "diff_probs = diff_probs / len(q_weights)\n",
    "print(f'Sanity check: {diff_probs.sum()}')"
   ]
  },
  {
   "cell_type": "code",
   "execution_count": null,
   "metadata": {
    "scrolled": true
   },
   "outputs": [],
   "source": [
    "plt.plot(diff_space, diff_probs)\n",
    "plt.title('Empirical probabilities')\n",
    "plt.show()"
   ]
  },
  {
   "cell_type": "code",
   "execution_count": null,
   "metadata": {
    "scrolled": true
   },
   "outputs": [],
   "source": [
    "p_rates = pd.Series(np.zeros(len(df_answers['p_idx'].unique()), dtype=float),\n",
    "                      index=df_answers['p_idx'].unique())\n",
    "for idx in df_answers['p_idx'].unique():\n",
    "    preds = 1 / (1 + np.exp(-(p_weights[idx] + diff_space)))\n",
    "    rate = np.dot(preds, diff_probs)\n",
    "    p_rates[idx] = rate"
   ]
  },
  {
   "cell_type": "code",
   "execution_count": null,
   "metadata": {},
   "outputs": [],
   "source": [
    "p_rates.to_csv('data/p_rates_em.csv')"
   ]
  },
  {
   "cell_type": "markdown",
   "metadata": {},
   "source": [
    "Распределение рейтингов"
   ]
  },
  {
   "cell_type": "code",
   "execution_count": null,
   "metadata": {},
   "outputs": [],
   "source": [
    "p_rates.hist(bins=100)"
   ]
  },
  {
   "cell_type": "markdown",
   "metadata": {},
   "source": [
    "Рейтинг игроков, находящихся в первой десятке по официальному рейтингу на сайте рейтинга чгк (релиз 25 декабря 2020 года):"
   ]
  },
  {
   "cell_type": "code",
   "execution_count": null,
   "metadata": {},
   "outputs": [],
   "source": [
    "top_idxs =[30152, 28751, 27822, 30270, 27403, 4270, 18332, 18036, 6482, 22799]\n",
    "for place, idx in enumerate(top_idxs, 1):\n",
    "    player = players[idx]\n",
    "    print(f\"{place}. {player['name']} {player['patronymic']} {player['surname']}: {p_rates[idx]}\")"
   ]
  },
  {
   "cell_type": "code",
   "execution_count": null,
   "metadata": {},
   "outputs": [],
   "source": [
    "num_tournaments = 0\n",
    "spearman_coef = 0\n",
    "kendall_coef = 0\n",
    "for t_idx in tournaments_test.keys():\n",
    "    if not results[t_idx]:\n",
    "        continue\n",
    "    if not 'position' in results[t_idx][0].keys():\n",
    "        continue\n",
    "    ranks_pred = np.zeros(len(results[t_idx]))\n",
    "    ranks_true = np.zeros(len(results[t_idx]))\n",
    "    for i, result in enumerate(results[t_idx]):\n",
    "        ranks_true[i] = result['position']\n",
    "        ranks_pred[i] = evaluate_team(result['teamMembers'])\n",
    "    spearman_coef_curr = sps.spearmanr(ranks_pred, -ranks_true)[0]\n",
    "    kendall_coef_curr = sps.kendalltau(ranks_pred, -ranks_true)[0]\n",
    "    if not (np.isnan(spearman_coef_curr) or np.isnan(kendall_coef_curr)):\n",
    "        spearman_coef += spearman_coef_curr\n",
    "        kendall_coef += kendall_coef_curr\n",
    "        num_tournaments += 1\n",
    "print(f'Average Spearman correlation: {spearman_coef/num_tournaments}')\n",
    "print(f'Average Kendall correlation: {kendall_coef/num_tournaments}')"
   ]
  },
  {
   "cell_type": "markdown",
   "metadata": {},
   "source": [
    "# Task 5"
   ]
  },
  {
   "cell_type": "markdown",
   "metadata": {},
   "source": [
    "А что там с вопросами? Постройте “рейтинг-лист” турниров по сложности вопросов. Соответствует ли он интуиции (например, на чемпионате мира в целом должны быть сложные вопросы, а на турнирах для школьников — простые)? Если будет интересно: постройте топ сложных и простых вопросов со ссылками на конкретные записи в базе вопросов ЧГК (это чисто техническое дело, тут никакого ML нету)."
   ]
  },
  {
   "cell_type": "code",
   "execution_count": null,
   "metadata": {},
   "outputs": [],
   "source": [
    "tournament_diffs = {}\n",
    "for tournament in tournaments_train.keys():\n",
    "    tournament_diff = 0\n",
    "    n_questions = 0\n",
    "    if len(results[tournament]) == 0:\n",
    "        continue\n",
    "    if not 'mask' in results[tournament][0].keys():\n",
    "        continue\n",
    "    for i in range(len(results[tournament][0]['mask'] or [])):\n",
    "        q_idx = tournament*10000 + i\n",
    "        try:\n",
    "            tournament_diff -= w[idx_to_position[q_idx]]\n",
    "            n_questions += 1\n",
    "        except KeyError:\n",
    "            pass\n",
    "    if n_questions > 0:\n",
    "        tournament_diffs[tournament] = tournament_diff / n_questions"
   ]
  },
  {
   "cell_type": "code",
   "execution_count": null,
   "metadata": {},
   "outputs": [],
   "source": [
    "tournament_diffs = pd.Series(tournament_diffs).sort_values(ascending=False)"
   ]
  },
  {
   "cell_type": "code",
   "execution_count": null,
   "metadata": {},
   "outputs": [],
   "source": [
    "print('Самые сложные турниры:')\n",
    "for i, tournament in enumerate(tournament_diffs.index[:10], 1):\n",
    "    print(f'{i:2}. {tournaments[tournament][\"name\"]}')"
   ]
  },
  {
   "cell_type": "code",
   "execution_count": null,
   "metadata": {},
   "outputs": [],
   "source": [
    "print('Самые простые турниры:')\n",
    "for i, tournament in enumerate(tournament_diffs.index[-1:-11:-1], 1):\n",
    "    print(f'{i:2}. {tournaments[tournament][\"name\"]}')"
   ]
  },
  {
   "cell_type": "markdown",
   "metadata": {},
   "source": [
    "Результаты действительно соответствуют интуиции."
   ]
  },
  {
   "cell_type": "markdown",
   "metadata": {},
   "source": [
    "# Task 6"
   ]
  },
  {
   "cell_type": "code",
   "execution_count": null,
   "metadata": {},
   "outputs": [],
   "source": [
    "def make_top_table(min_questions, length=20):\n",
    "    df_res = {\n",
    "        'place': [],\n",
    "        'name': [],\n",
    "        'patronymic': [],\n",
    "        'surname': [],\n",
    "        'rate': [],\n",
    "        'questions': [],\n",
    "    }\n",
    "    global p_rates\n",
    "    p_rates = p_rates.sort_values(ascending=False)\n",
    "    for p_idx in p_rates.index:\n",
    "        questions = (df_answers['p_idx'] == p_idx).sum()\n",
    "        if questions >= min_questions:\n",
    "            df_res['place'].append(len(df_res['place']) + 1)\n",
    "            df_res['name'].append(players[p_idx]['name'])\n",
    "            df_res['patronymic'].append(players[p_idx]['patronymic'])\n",
    "            df_res['surname'].append(players[p_idx]['surname'])\n",
    "            df_res['rate'].append(p_rates[p_idx])\n",
    "            df_res['questions'].append(questions)\n",
    "            if len(df_res['place']) == length:\n",
    "                break\n",
    "    df_res = pd.DataFrame(df_res)\n",
    "    df_res.index = df_res['place']\n",
    "    df_res = df_res.drop(['place'], axis=1)\n",
    "    return df_res"
   ]
  },
  {
   "cell_type": "code",
   "execution_count": null,
   "metadata": {
    "scrolled": false
   },
   "outputs": [],
   "source": [
    "make_top_table(min_questions=0)"
   ]
  },
  {
   "cell_type": "markdown",
   "metadata": {},
   "source": [
    "Как видно, в топ попали игроки, у которых очень мало сыграных вопросов. Попробуем брать в топ исключительно тех игроков, у кого сыграно более 1000 вопросов."
   ]
  },
  {
   "cell_type": "code",
   "execution_count": null,
   "metadata": {},
   "outputs": [],
   "source": [
    "make_top_table(min_questions=1000)"
   ]
  },
  {
   "cell_type": "markdown",
   "metadata": {},
   "source": [
    "Теперь в топ попали действительно хорошие игроки, находящиеся в топе на сайте рейтинга. Но для составления рейтинг-системы было бы несправедливо просто выкинуть тех игроков, кто сыграл мало турниров, но сыграл их хорошо, ведь их тоже нужно как-то сравнивать между собой. Попробуем сделать что-то вроде байесовского сглаживания. Из результатов рейтинга без сглаживания видно, что у большинства игроков вероятность взять случайный вопрос из базы достаточно мала, поэтому ожидается что новые игроки поначалу будут играть плохо. Добавим каждому игроку одинаковое количество неправильно отвеченных вопросов в таблицу (например 150, что соответствует трём турнирам - это число можно подбирать на валидации). Тогда рейтинг всех игроков понизится, но в особенности к этому будет чувствителен рейтинг игроков, сыгравших мало игр."
   ]
  },
  {
   "cell_type": "code",
   "execution_count": null,
   "metadata": {},
   "outputs": [],
   "source": [
    "enc = OneHotEncoder(handle_unknown='ignore')\n",
    "enc.fit(df_answers[['p_idx', 'q_idx']])\n",
    "X = enc.transform(df_answers[['p_idx', 'q_idx']])\n",
    "main_block_len = X.shape[0]"
   ]
  },
  {
   "cell_type": "code",
   "execution_count": null,
   "metadata": {},
   "outputs": [],
   "source": [
    "p_for_smoothing = np.repeat(df_answers['p_idx'].unique(), 150)\n",
    "q_for_smoothing = np.zeros(len(p_for_smoothing))\n",
    "X_smooth = enc.transform(np.stack([p_for_smoothing, q_for_smoothing]).T)"
   ]
  },
  {
   "cell_type": "code",
   "execution_count": null,
   "metadata": {},
   "outputs": [],
   "source": [
    "X_full = vstack([X, X_smooth])"
   ]
  },
  {
   "cell_type": "code",
   "execution_count": null,
   "metadata": {},
   "outputs": [],
   "source": [
    "counts = np.array((X_full != 0).sum(axis=0)).ravel()"
   ]
  },
  {
   "cell_type": "code",
   "execution_count": null,
   "metadata": {},
   "outputs": [],
   "source": [
    "w = np.random.randn(X.shape[1])\n",
    "p = 1 / (1 + np.exp(-X.dot(w)))"
   ]
  },
  {
   "cell_type": "code",
   "execution_count": null,
   "metadata": {},
   "outputs": [],
   "source": [
    "%%time\n",
    "z = np.concatenate([e_step(p), np.zeros(len(p_for_smoothing))])\n",
    "print(f'p: {p}')\n",
    "print(f'z: {z}')"
   ]
  },
  {
   "cell_type": "code",
   "execution_count": null,
   "metadata": {},
   "outputs": [],
   "source": [
    "%%time\n",
    "log_likelihood(z, X_full, w)"
   ]
  },
  {
   "cell_type": "code",
   "execution_count": null,
   "metadata": {},
   "outputs": [],
   "source": [
    "n_cycles = 50\n",
    "for i in tqdm(range(n_cycles)):\n",
    "    if i == 0:\n",
    "        p = 1 / (1 + np.exp(-X.dot(w)))\n",
    "        z = np.concatenate([e_step(p), np.zeros(len(p_for_smoothing))])\n",
    "    w = m_step(X_full, w, z)\n",
    "    p = 1 / (1 + np.exp(-X.dot(w)))\n",
    "    z = np.concatenate([e_step(p), np.zeros(len(p_for_smoothing))])\n",
    "    print(f'Log likelihood after cycle {i+1:3}: {log_likelihood(z, X_full, w)}.')"
   ]
  },
  {
   "cell_type": "code",
   "execution_count": null,
   "metadata": {},
   "outputs": [],
   "source": [
    "idx_to_position = {}\n",
    "for i, fname in enumerate(enc.get_feature_names()):\n",
    "    idx_to_position[int(fname[3:])] = i\n",
    "p_weights = pd.Series(np.zeros(len(df_answers['p_idx'].unique())),\n",
    "                      df_answers['p_idx'].unique())\n",
    "for player in df_answers['p_idx'].unique():\n",
    "    p_weights[player] = w[idx_to_position[player]]\n",
    "q_weights = pd.Series(np.zeros(len(df_answers['q_idx'].unique())),\n",
    "                      df_answers['q_idx'].unique())\n",
    "for question in df_answers['q_idx'].unique():\n",
    "    q_weights[question] = w[idx_to_position[question]]"
   ]
  },
  {
   "cell_type": "markdown",
   "metadata": {},
   "source": [
    "Распределение сложности вопросов"
   ]
  },
  {
   "cell_type": "code",
   "execution_count": null,
   "metadata": {},
   "outputs": [],
   "source": [
    "q_weights.hist(bins=100)"
   ]
  },
  {
   "cell_type": "code",
   "execution_count": null,
   "metadata": {},
   "outputs": [],
   "source": [
    "n_bins = 100\n",
    "space = np.linspace(q_weights.min(), q_weights.max(), n_bins+1)\n",
    "bounds = np.stack([space[:-1], space[1:]]).T\n",
    "diff_space = bounds.mean(axis=1)\n",
    "diff_probs = np.array([((q_weights >= bound[0]) & (q_weights < bound[1])).sum() for bound in bounds])\n",
    "diff_probs = diff_probs / len(q_weights)\n",
    "print(f'Sanity check: {diff_probs.sum()}')"
   ]
  },
  {
   "cell_type": "code",
   "execution_count": null,
   "metadata": {},
   "outputs": [],
   "source": [
    "plt.plot(diff_space, diff_probs)\n",
    "plt.title('Empirical probabilities')\n",
    "plt.show()"
   ]
  },
  {
   "cell_type": "code",
   "execution_count": null,
   "metadata": {},
   "outputs": [],
   "source": [
    "p_rates = pd.Series(np.zeros(len(df_answers['p_idx'].unique()), dtype=float),\n",
    "                      index=df_answers['p_idx'].unique())\n",
    "for idx in df_answers['p_idx'].unique():\n",
    "    preds = 1 / (1 + np.exp(-(p_weights[idx] + diff_space)))\n",
    "    rate = np.dot(preds, diff_probs)\n",
    "    p_rates[idx] = rate"
   ]
  },
  {
   "cell_type": "code",
   "execution_count": null,
   "metadata": {},
   "outputs": [],
   "source": [
    "p_rates.to_csv('data/p_rates_em_smoothed.csv')"
   ]
  },
  {
   "cell_type": "markdown",
   "metadata": {},
   "source": [
    "Распределение рейтингов"
   ]
  },
  {
   "cell_type": "code",
   "execution_count": null,
   "metadata": {},
   "outputs": [],
   "source": [
    "p_rates.hist(bins=100)"
   ]
  },
  {
   "cell_type": "code",
   "execution_count": null,
   "metadata": {},
   "outputs": [],
   "source": [
    "top_idxs =[30152, 28751, 27822, 30270, 27403, 4270, 18332, 18036, 6482, 22799]\n",
    "for place, idx in enumerate(top_idxs, 1):\n",
    "    player = players[idx]\n",
    "    print(f\"{place}. {player['name']} {player['patronymic']} {player['surname']}: {p_rates[idx]}\")"
   ]
  },
  {
   "cell_type": "code",
   "execution_count": null,
   "metadata": {},
   "outputs": [],
   "source": [
    "num_tournaments = 0\n",
    "spearman_coef = 0\n",
    "kendall_coef = 0\n",
    "for t_idx in tournaments_test.keys():\n",
    "    if not results[t_idx]:\n",
    "        continue\n",
    "    if not 'position' in results[t_idx][0].keys():\n",
    "        continue\n",
    "    ranks_pred = np.zeros(len(results[t_idx]))\n",
    "    ranks_true = np.zeros(len(results[t_idx]))\n",
    "    for i, result in enumerate(results[t_idx]):\n",
    "        ranks_true[i] = result['position']\n",
    "        ranks_pred[i] = evaluate_team(result['teamMembers'])\n",
    "    spearman_coef_curr = sps.spearmanr(ranks_pred, -ranks_true)[0]\n",
    "    kendall_coef_curr = sps.kendalltau(ranks_pred, -ranks_true)[0]\n",
    "    if not (np.isnan(spearman_coef_curr) or np.isnan(kendall_coef_curr)):\n",
    "        spearman_coef += spearman_coef_curr\n",
    "        kendall_coef += kendall_coef_curr\n",
    "        num_tournaments += 1\n",
    "print(f'Average Spearman correlation: {spearman_coef/num_tournaments}')\n",
    "print(f'Average Kendall correlation: {kendall_coef/num_tournaments}')"
   ]
  },
  {
   "cell_type": "code",
   "execution_count": null,
   "metadata": {},
   "outputs": [],
   "source": [
    "make_top_table(min_questions=0)"
   ]
  },
  {
   "cell_type": "markdown",
   "metadata": {},
   "source": [
    "Как видно, в топ сглаженной модели попали уже игроки с большим количеством вопросов."
   ]
  }
 ],
 "metadata": {
  "kernelspec": {
   "display_name": "Python 3",
   "language": "python",
   "name": "python3"
  },
  "language_info": {
   "codemirror_mode": {
    "name": "ipython",
    "version": 3
   },
   "file_extension": ".py",
   "mimetype": "text/x-python",
   "name": "python",
   "nbconvert_exporter": "python",
   "pygments_lexer": "ipython3",
   "version": "3.7.10"
  }
 },
 "nbformat": 4,
 "nbformat_minor": 4
}
