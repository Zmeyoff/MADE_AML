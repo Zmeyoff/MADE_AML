{
 "cells": [
  {
   "cell_type": "markdown",
   "metadata": {},
   "source": [
    "# Продвинутое машинное обучение: \n",
    "## Домашнее задание 2"
   ]
  },
  {
   "cell_type": "code",
   "execution_count": 1,
   "metadata": {},
   "outputs": [],
   "source": [
    "import pickle\n",
    "import pandas as pd\n",
    "import numpy as np\n",
    "import matplotlib.pyplot as plt\n",
    "import scipy.stats as sps\n",
    "import zipfile\n",
    "from sklearn.linear_model import LogisticRegression\n",
    "from sklearn.preprocessing import OneHotEncoder\n",
    "from tqdm.notebook import tqdm\n",
    "from scipy.sparse import csr_matrix, vstack"
   ]
  },
  {
   "cell_type": "markdown",
   "metadata": {},
   "source": [
    "## Task 1"
   ]
  },
  {
   "cell_type": "markdown",
   "metadata": {},
   "source": [
    " Прочитайте и проанализируйте данные, выберите турниры, в которых есть данные\n",
    "о составах команд и повопросных результатах (поле *mask* в results.pkl). Для\n",
    "унификации предлагаю:\n",
    " - взять в тренировочный набор турниры с dateStart из 2019 года;\n",
    " - в тестовый — турниры с dateStart из 2020 года."
   ]
  },
  {
   "cell_type": "code",
   "execution_count": 2,
   "metadata": {},
   "outputs": [],
   "source": [
    "tournaments = pickle.load(open('data/tournaments.pkl', 'rb'))\n",
    "results = pickle.load(open('data/results.pkl', 'rb'))\n",
    "players = pickle.load(open('data/players.pkl', 'rb'))"
   ]
  },
  {
   "cell_type": "code",
   "execution_count": 3,
   "metadata": {},
   "outputs": [],
   "source": [
    "tournaments_train = {key: value for key, value in tournaments.items() if value['dateStart'][:4] == '2019'}\n",
    "tournaments_test = {key: value for key, value in tournaments.items() if value['dateStart'][:4] == '2020'}"
   ]
  },
  {
   "cell_type": "code",
   "execution_count": 4,
   "metadata": {
    "scrolled": true
   },
   "outputs": [
    {
     "name": "stdout",
     "output_type": "stream",
     "text": [
      "Number of tournaments in the train set: 687\n",
      "Number of tournaments in the test set: 418\n"
     ]
    }
   ],
   "source": [
    "print(f'Number of tournaments in the train set: {len(tournaments_train)}')\n",
    "print(f'Number of tournaments in the test set: {len(tournaments_test)}')"
   ]
  },
  {
   "cell_type": "code",
   "execution_count": 5,
   "metadata": {
    "scrolled": false
   },
   "outputs": [],
   "source": [
    "#искал Ростов\n",
    "#for i in tournaments_train:\n",
    "#    print(i, tournaments_train[i]['name'])"
   ]
  },
  {
   "cell_type": "code",
   "execution_count": 6,
   "metadata": {},
   "outputs": [
    {
     "name": "stdout",
     "output_type": "stream",
     "text": [
      "Sample of the tournament object:\n"
     ]
    },
    {
     "data": {
      "text/plain": [
       "{'id': 5449,\n",
       " 'name': 'Кубок Ростова',\n",
       " 'dateStart': '2019-02-24T00:00:00+03:00',\n",
       " 'dateEnd': '2019-04-28T18:00:00+03:00',\n",
       " 'type': {'id': 2, 'name': 'Обычный'},\n",
       " 'season': '/seasons/52',\n",
       " 'orgcommittee': [{'id': 59103,\n",
       "   'name': 'Сергей',\n",
       "   'patronymic': 'Валерьевич',\n",
       "   'surname': 'Стадник'},\n",
       "  {'id': 61986,\n",
       "   'name': 'Екатерина',\n",
       "   'patronymic': 'Александровна',\n",
       "   'surname': 'Эйзнер'},\n",
       "  {'id': 17343,\n",
       "   'name': 'Игорь',\n",
       "   'patronymic': 'Владимирович',\n",
       "   'surname': 'Куприянов'},\n",
       "  {'id': 40552,\n",
       "   'name': 'Сергей',\n",
       "   'patronymic': 'Вячеславович',\n",
       "   'surname': 'Литвинов'},\n",
       "  {'id': 34361,\n",
       "   'name': 'Алексей',\n",
       "   'patronymic': 'Витальевич',\n",
       "   'surname': 'Цветянский'},\n",
       "  {'id': 133,\n",
       "   'name': 'Андрей',\n",
       "   'patronymic': 'Леонидович',\n",
       "   'surname': 'Абрамов'},\n",
       "  {'id': 24291,\n",
       "   'name': 'Андрей',\n",
       "   'patronymic': 'Юрьевич',\n",
       "   'surname': 'Пастушенко'}],\n",
       " 'synchData': None,\n",
       " 'questionQty': {'1': 12,\n",
       "  '2': 12,\n",
       "  '3': 12,\n",
       "  '4': 12,\n",
       "  '5': 12,\n",
       "  '6': 12,\n",
       "  '7': 12,\n",
       "  '8': 12,\n",
       "  '9': 12}}"
      ]
     },
     "execution_count": 6,
     "metadata": {},
     "output_type": "execute_result"
    }
   ],
   "source": [
    "print('Sample of the tournament object:')\n",
    "tournaments_train[5449]"
   ]
  },
  {
   "cell_type": "code",
   "execution_count": 7,
   "metadata": {
    "scrolled": false
   },
   "outputs": [
    {
     "name": "stdout",
     "output_type": "stream",
     "text": [
      "Sample of the results object:\n",
      "Number of teams: 8\n",
      "Team results:\n"
     ]
    },
    {
     "data": {
      "text/plain": [
       "{'team': {'id': 4795,\n",
       "  'name': 'Большая Берта',\n",
       "  'town': {'id': 277, 'name': 'Ростов-на-Дону'}},\n",
       " 'mask': '1100010101101111011111110101101010111010000001101001000001011111000010110101100010010010011X1110000000000000',\n",
       " 'current': {'name': 'Большая Берта',\n",
       "  'town': {'id': 277, 'name': 'Ростов-на-Дону'}},\n",
       " 'questionsTotal': 50,\n",
       " 'synchRequest': None,\n",
       " 'position': 1,\n",
       " 'controversials': [],\n",
       " 'flags': [],\n",
       " 'teamMembers': [{'flag': 'К',\n",
       "   'usedRating': 7857,\n",
       "   'rating': 7857,\n",
       "   'player': {'id': 34361,\n",
       "    'name': 'Алексей',\n",
       "    'patronymic': 'Витальевич',\n",
       "    'surname': 'Цветянский'}},\n",
       "  {'flag': 'Б',\n",
       "   'usedRating': 6548,\n",
       "   'rating': 7857,\n",
       "   'player': {'id': 59103,\n",
       "    'name': 'Сергей',\n",
       "    'patronymic': 'Валерьевич',\n",
       "    'surname': 'Стадник'}},\n",
       "  {'flag': 'Б',\n",
       "   'usedRating': 5238,\n",
       "   'rating': 7857,\n",
       "   'player': {'id': 60252,\n",
       "    'name': 'Наталья',\n",
       "    'patronymic': 'Григорьевна',\n",
       "    'surname': 'Стадник'}},\n",
       "  {'flag': 'Б',\n",
       "   'usedRating': 3857,\n",
       "   'rating': 7713,\n",
       "   'player': {'id': 66121,\n",
       "    'name': 'Андрей',\n",
       "    'patronymic': 'Владимирович',\n",
       "    'surname': 'Андреев'}},\n",
       "  {'flag': 'Б',\n",
       "   'usedRating': 2550,\n",
       "   'rating': 7650,\n",
       "   'player': {'id': 6589,\n",
       "    'name': 'Юлия',\n",
       "    'patronymic': 'Владимировна',\n",
       "    'surname': 'Цветянская'}},\n",
       "  {'flag': 'Б',\n",
       "   'usedRating': 1249,\n",
       "   'rating': 7493,\n",
       "   'player': {'id': 37518,\n",
       "    'name': 'Григорий',\n",
       "    'patronymic': 'Викторович',\n",
       "    'surname': 'Ященко'}},\n",
       "  {'flag': None,\n",
       "   'usedRating': 0,\n",
       "   'rating': 6550,\n",
       "   'player': {'id': 163947,\n",
       "    'name': 'Александр',\n",
       "    'patronymic': 'Александрович',\n",
       "    'surname': 'Гришин'}}]}"
      ]
     },
     "execution_count": 7,
     "metadata": {},
     "output_type": "execute_result"
    }
   ],
   "source": [
    "print('Sample of the results object:')\n",
    "print(f'Number of teams: {len(results[5449])}')\n",
    "print('Team results:')\n",
    "results[5449][0]"
   ]
  },
  {
   "cell_type": "code",
   "execution_count": 8,
   "metadata": {},
   "outputs": [],
   "source": [
    "player_ids_train = set()\n",
    "for tournament_id in tournaments_train.keys():\n",
    "    for team in results[tournament_id]:\n",
    "        for player in team['teamMembers']:\n",
    "            player_ids_train.add(player['player']['id'])\n",
    "player_ids_train = list(player_ids_train)"
   ]
  },
  {
   "cell_type": "code",
   "execution_count": 9,
   "metadata": {},
   "outputs": [
    {
     "name": "stdout",
     "output_type": "stream",
     "text": [
      "Number of players in train data: 59224\n"
     ]
    }
   ],
   "source": [
    "print(f'Number of players in train data: {len(player_ids_train)}')"
   ]
  },
  {
   "cell_type": "code",
   "execution_count": 10,
   "metadata": {},
   "outputs": [
    {
     "name": "stdout",
     "output_type": "stream",
     "text": [
      "Sample of the player object:\n"
     ]
    },
    {
     "data": {
      "text/plain": [
       "{'id': 131077,\n",
       " 'name': 'Паруйр',\n",
       " 'patronymic': 'Паруйрович',\n",
       " 'surname': 'Аланакян'}"
      ]
     },
     "execution_count": 10,
     "metadata": {},
     "output_type": "execute_result"
    }
   ],
   "source": [
    "print('Sample of the player object:')\n",
    "players[player_ids_train[0]]"
   ]
  },
  {
   "cell_type": "markdown",
   "metadata": {},
   "source": [
    "## Task 2"
   ]
  },
  {
   "cell_type": "markdown",
   "metadata": {},
   "source": [
    "Постройте baseline-модель на основе линейной или логистической регрессии, которая будет обучать рейтинг-лист игроков. Замечания и подсказки:\n",
    " - повопросные результаты — это фактически результаты броска монетки, и их предсказание скорее всего имеет отношение к бинарной классификации;\n",
    " - в разных турнирах вопросы совсем разного уровня сложности, поэтому модель должна это учитывать; скорее всего, модель должна будет явно обучать не только силу каждого игрока, но и сложность каждого вопроса;\n",
    " - в разных турнирах вопросы совсем разного уровня сложности, поэтому модель должна это учитывать; скорее всего, модель должна будет явно обучать не только силу каждого игрока, но и сложность каждого вопроса;\n",
    " - для baseline-модели можно забыть о командах и считать, что повопросные результаты команды просто относятся к каждому из её игроков."
   ]
  },
  {
   "cell_type": "markdown",
   "metadata": {},
   "source": [
    "Пусть $Q$ — случайная величина, сложность вопроса, где вопрос выбирается равновероятно из всей базы вопросов. $X_{i}$ — случайная величина, служащая индикатором того, что игрок с индексом $i$ ответил на вопрос."
   ]
  },
  {
   "cell_type": "markdown",
   "metadata": {},
   "source": [
    "Предположим, что нам известна сложность конкретного вопроса. Тогда для каждого игрока мы можем обучить модель для вероятности $P(X_i|Q=q)$."
   ]
  },
  {
   "cell_type": "markdown",
   "metadata": {},
   "source": [
    "В качестве рейтинга игрока возьмём матожидание $X_i$ по распределению вопросов в базе:\n",
    "$$\n",
    "E_{Q}[X_i] = \\int_{D(Q)} P(X_i|Q = q) p_Q(q) dq.\n",
    "$$\n",
    "Это будет означать матожидание того, что игрок ответит на случайно взятый из базы вопрос. Таким образом, у рейтинга будет конкретная вероятностная интерпретация, которую можно использовать для дальнейшего вывода."
   ]
  },
  {
   "cell_type": "markdown",
   "metadata": {},
   "source": [
    "Тогда для построения рейтинга необходимо:\n",
    "  1. Предложить способ подсчёта q для конкретного вопроса.\n",
    "  2. Найти (аппроксимировать) распределение для Q.\n",
    "  3. Построить модель для $P(X_i|Q=q)$.\n",
    "  4. Вычислить интеграл для матожидания (можно численно)."
   ]
  },
  {
   "cell_type": "markdown",
   "metadata": {},
   "source": [
    "1) Предложить способ подсчёта q для конкретного вопроса.  \n",
    "Было бы хорошо вычислять q вопроса как вероятность того, что случайно взятый игрок из базы правильно ответит на этот вопрос. Но в действительности такую вероятность сложно или невозможно оценить из существующего набора данных, так как каждый вопрос играется в рамках одного турнира, а турнир в свою очередь как правило объединяет команды похожие по уровню и содержит соответствующие по сложности вопросы. Если некоторый вопрос взяло большое количество команд, это может свидетельствовать не о лёгкости вопроса относительно других вопросов в базе, а о том, что турнир играют сильные команды. Тем не менее, **сделаем предположение**, что вероятность взять вопрос не зависит от турнира. В рамках этого предположения q будет иметь нужную интерпретацию и легко вычисляться из данных по формуле\n",
    "$$\n",
    "q = \\frac{\\text{# игроки, взявшие вопрос}}{\\text{# игроки в турнире}}.\n",
    "$$\n",
    "Также будем считать, что если команда взяла вопрос, то и все игроки взяли этот вопрос. Это конечно не так и завысит по итогу рейтинг всех игроков."
   ]
  },
  {
   "cell_type": "code",
   "execution_count": 11,
   "metadata": {},
   "outputs": [],
   "source": [
    "df_answers = {'q_idx': [], 't_idx': [], 'p_idx': [], 'ans': []}\n",
    "for t_index in tournaments_train.keys():\n",
    "    for result in results[t_index]:\n",
    "        if 'mask' in result.keys() and result['mask'] is not None:\n",
    "            for i, ans in enumerate(result['mask']):\n",
    "                if not (ans == '0' or ans == '1'):\n",
    "                    break\n",
    "                q_idx = t_index*10000 + i\n",
    "                for player in result['teamMembers']:\n",
    "                    df_answers['q_idx'].append(q_idx)\n",
    "                    df_answers['t_idx'].append(result['team']['id'])\n",
    "                    df_answers['p_idx'].append(player['player']['id'])\n",
    "                    df_answers['ans'].append(int(ans))\n",
    "df_answers = pd.DataFrame.from_dict(df_answers)"
   ]
  },
  {
   "cell_type": "code",
   "execution_count": 12,
   "metadata": {},
   "outputs": [],
   "source": [
    "q_counts = df_answers['q_idx'].value_counts()\n",
    "ans_counts = df_answers[df_answers['ans'] == 1]['q_idx'].value_counts()\n",
    "q_diff = pd.Series(np.zeros(len(df_answers['q_idx'].unique()), dtype=float),\n",
    "                      index=df_answers['q_idx'].unique())\n",
    "for q_idx in q_diff.index:\n",
    "    if q_idx in ans_counts.index:\n",
    "        q_diff[q_idx] = ans_counts[q_idx] / q_counts[q_idx]"
   ]
  },
  {
   "cell_type": "code",
   "execution_count": 13,
   "metadata": {},
   "outputs": [
    {
     "data": {
      "text/plain": [
       "47720000    0.892295\n",
       "47720001    0.776305\n",
       "47720002    0.463132\n",
       "47720003    0.541839\n",
       "47720004    0.888981\n",
       "dtype: float64"
      ]
     },
     "execution_count": 13,
     "metadata": {},
     "output_type": "execute_result"
    }
   ],
   "source": [
    "q_diff.head()"
   ]
  },
  {
   "cell_type": "markdown",
   "metadata": {},
   "source": [
    "2) Найти (аппроксимировать) распределение для Q."
   ]
  },
  {
   "cell_type": "code",
   "execution_count": 14,
   "metadata": {
    "scrolled": true
   },
   "outputs": [
    {
     "data": {
      "text/plain": [
       "<AxesSubplot:>"
      ]
     },
     "execution_count": 14,
     "metadata": {},
     "output_type": "execute_result"
    },
    {
     "data": {
      "image/png": "[encoded data removed]",
      "text/plain": [
       "<Figure size 432x288 with 1 Axes>"
      ]
     },
     "metadata": {
      "needs_background": "light"
     },
     "output_type": "display_data"
    }
   ],
   "source": [
    "q_diff.hist(bins=50)"
   ]
  },
  {
   "cell_type": "markdown",
   "metadata": {},
   "source": [
    "Распределение не похоже на какое-то известное, поэтому формулой его аппроксимировать не получится. Возьмём эмпирическое распределение на основе гистограммы."
   ]
  },
  {
   "cell_type": "code",
   "execution_count": 15,
   "metadata": {},
   "outputs": [
    {
     "name": "stdout",
     "output_type": "stream",
     "text": [
      "Sanity check: 0.9999999999999999\n"
     ]
    }
   ],
   "source": [
    "n_bins = 50\n",
    "bounds = np.stack([np.linspace(0, 1, n_bins+1)[:-1], np.linspace(0, 1, n_bins+1)[1:]]).T\n",
    "diff_space = bounds.mean(axis=1).reshape((-1, 1))\n",
    "diff_probs = np.array([((q_diff >= bound[0]) & (q_diff < bound[1])).sum() for bound in bounds])\n",
    "diff_probs[-1] += (q_diff == 1).sum()\n",
    "diff_probs = diff_probs / len(q_diff)\n",
    "print(f'Sanity check: {diff_probs.sum()}')"
   ]
  },
  {
   "cell_type": "code",
   "execution_count": 16,
   "metadata": {
    "scrolled": true
   },
   "outputs": [
    {
     "data": {
      "image/png": "[encoded data removed]",
      "text/plain": [
       "<Figure size 432x288 with 1 Axes>"
      ]
     },
     "metadata": {
      "needs_background": "light"
     },
     "output_type": "display_data"
    }
   ],
   "source": [
    "plt.plot(diff_space, diff_probs)\n",
    "plt.title('Empirical probabilities')\n",
    "plt.show()"
   ]
  },
  {
   "cell_type": "markdown",
   "metadata": {},
   "source": [
    "3) Построить модель для $P(X_i|Q=q)$.  \n",
    "В качестве модели для каждого игрока в отдельности построим логистическую регрессию, единственным признаком которой будет сложность вопроса.\n",
    "$$\n",
    "P(X_i | Q=q) = \\sigma(wq + w_0).\n",
    "$$"
   ]
  },
  {
   "cell_type": "markdown",
   "metadata": {},
   "source": [
    "4) Вычислить интеграл для матожидания (можно численно).  \n",
    "Для каждого игрока сделаем предсказание для вопросов различной сложности и усредним с весами из *diff_probs*."
   ]
  },
  {
   "cell_type": "code",
   "execution_count": 17,
   "metadata": {},
   "outputs": [],
   "source": [
    "df_answers['q_diff'] = q_diff[df_answers['q_idx'].values].values"
   ]
  },
  {
   "cell_type": "code",
   "execution_count": 18,
   "metadata": {},
   "outputs": [
    {
     "data": {
      "application/vnd.jupyter.widget-view+json": {
       "model_id": "49ff1233980644f1bfb5046bf1c2ad69",
       "version_major": 2,
       "version_minor": 0
      },
      "text/plain": [
       "  0%|          | 0/59224 [00:00<?, ?it/s]"
      ]
     },
     "metadata": {},
     "output_type": "display_data"
    }
   ],
   "source": [
    "p_rates = pd.Series(np.zeros(len(player_ids_train), dtype=float),\n",
    "                      index=player_ids_train)\n",
    "for idx in tqdm(player_ids_train):\n",
    "    p_df = df_answers[df_answers['p_idx'] == idx]\n",
    "    model = LogisticRegression() #LogisticRegression(C=10, solver='saga', tol=0.1)\n",
    "    try:\n",
    "        model.fit(p_df[['q_diff']], p_df['ans'])\n",
    "        preds = model.predict_proba(diff_space)[:, 1]\n",
    "        rate = np.dot(preds, diff_probs)\n",
    "        p_rates[idx] = rate\n",
    "    except ValueError:\n",
    "        if not 0 in p_df['ans'].values:\n",
    "            p_rates[idx] = 1"
   ]
  },
  {
   "cell_type": "code",
   "execution_count": 19,
   "metadata": {},
   "outputs": [],
   "source": [
    "p_rates.to_csv('data/p_rates.csv')"
   ]
  },
  {
   "cell_type": "markdown",
   "metadata": {},
   "source": [
    "Посмотрим на распределение получившихся рейтингов:"
   ]
  },
  {
   "cell_type": "code",
   "execution_count": 20,
   "metadata": {
    "scrolled": true
   },
   "outputs": [
    {
     "data": {
      "text/plain": [
       "<AxesSubplot:>"
      ]
     },
     "execution_count": 20,
     "metadata": {},
     "output_type": "execute_result"
    },
    {
     "data": {
      "image/png": "[encoded data removed]",
      "text/plain": [
       "<Figure size 432x288 with 1 Axes>"
      ]
     },
     "metadata": {
      "needs_background": "light"
     },
     "output_type": "display_data"
    }
   ],
   "source": [
    "p_rates.hist(bins=100)"
   ]
  },
  {
   "cell_type": "code",
   "execution_count": 21,
   "metadata": {},
   "outputs": [
    {
     "data": {
      "text/plain": [
       "count    59224.000000\n",
       "mean         0.341635\n",
       "std          0.159843\n",
       "min          0.000000\n",
       "25%          0.227475\n",
       "50%          0.342995\n",
       "75%          0.450686\n",
       "max          1.000000\n",
       "dtype: float64"
      ]
     },
     "execution_count": 21,
     "metadata": {},
     "output_type": "execute_result"
    }
   ],
   "source": [
    "p_rates.describe()"
   ]
  },
  {
   "cell_type": "markdown",
   "metadata": {},
   "source": [
    "Во время обучения встречались игроки, которые не ответили ни на один вопрос, либо ответили на все. В таком случае рейтинг равен 0 или 1, так как логистическую регрессию для них обучить невозможно."
   ]
  },
  {
   "cell_type": "markdown",
   "metadata": {},
   "source": [
    "Рейтинг игроков, находящихся в первой десятке по официальному рейтингу на сайте рейтинга чгк (релиз 25 декабря 2020 года):"
   ]
  },
  {
   "cell_type": "code",
   "execution_count": 22,
   "metadata": {},
   "outputs": [
    {
     "name": "stdout",
     "output_type": "stream",
     "text": [
      "1. Артём Сергеевич Сорожкин: 0.7462404399269962\n",
      "2. Иван Николаевич Семушин: 0.765495003214929\n",
      "3. Михаил Владимирович Савченков: 0.7482146387565872\n",
      "4. Сергей Леонидович Спешков: 0.744937665965776\n",
      "5. Максим Михайлович Руссо: 0.7730484738393706\n",
      "6. Александра Владимировна Брутер: 0.7673787934295416\n",
      "7. Александр Витальевич Либер: 0.7161458981022918\n",
      "8. Михаил Ильич Левандовский: 0.7098142333598398\n",
      "9. Ким Гагикович Галачян: 0.6752295338367515\n",
      "10. Сергей Игоревич Николенко: 0.6880839776222154\n"
     ]
    }
   ],
   "source": [
    "top_idxs =[30152, 28751, 27822, 30270, 27403, 4270, 18332, 18036, 6482, 22799]\n",
    "for place, idx in enumerate(top_idxs, 1):\n",
    "    player = players[idx]\n",
    "    print(f\"{place}. {player['name']} {player['patronymic']} {player['surname']}: {p_rates[idx]}\")"
   ]
  },
  {
   "cell_type": "markdown",
   "metadata": {},
   "source": [
    "Лучшие 10 игроков по полученному рейтингу (не учитывая игроков с рейтингом 1):"
   ]
  },
  {
   "cell_type": "code",
   "execution_count": 23,
   "metadata": {},
   "outputs": [
    {
     "name": "stdout",
     "output_type": "stream",
     "text": [
      "1. Павел Константинович Щербина: 0.9722234760842277\n",
      "2. Инга Андрисовна Лоренц: 0.9043330514794683\n",
      "3. Валентина  Подюкова: 0.9005604150996038\n",
      "4. Алина Дмитриевна Антипова: 0.8969597057057481\n",
      "5. София Евгеньевна Лебедева: 0.8938684685127635\n",
      "6. Михаил Владимирович Завьялов: 0.8912828635918542\n",
      "7. Давид Сергеевич Кан: 0.8912828635918542\n",
      "8. Екатерина  Горелова: 0.8842588883611482\n",
      "9. Наталья  Артемьева: 0.8842588883611482\n",
      "10. Юлия  Крюкова: 0.8842588883611482\n"
     ]
    }
   ],
   "source": [
    "for place, idx in enumerate(p_rates[p_rates != 1].sort_values(ascending=False).index[:10], 1):\n",
    "    player = players[idx]\n",
    "    print(f\"{place}. {player['name']} {player['patronymic']} {player['surname']}: {p_rates[idx]}\")"
   ]
  },
  {
   "cell_type": "markdown",
   "metadata": {},
   "source": [
    "## Task 3"
   ]
  },
  {
   "cell_type": "markdown",
   "metadata": {},
   "source": [
    "Качество рейтинг-системы оценивается качеством предсказаний результатов турниров. Но сами повопросные результаты наши модели предсказывать вряд ли смогут, ведь неизвестно, насколько сложными окажутся вопросы в будущих турнирах; да и не нужны эти предсказания сами по себе. Поэтому:\n",
    " - предложите способ предсказать результаты нового турнира с известными составами, но неизвестными вопросами, в виде ранжирования команд;\n",
    " - в качестве метрики качества на тестовом наборе давайте считать ранговые корреляции Спирмена и Кендалла (их можно взять в пакете *scipy*) между реальным ранжированием в результатах турнира и предсказанным моделью, усреднённые по тестовому множеству турниров."
   ]
  },
  {
   "cell_type": "markdown",
   "metadata": {},
   "source": [
    "Для определения рейтинга команды воспользуемся вероятностной интерпретацией. Если рейтинг i-го игрока $r_i$ равен вероятности взять им случайный вопрос, тогда вероятность взять вопрос командой $T$ равна\n",
    "$$\n",
    "r_T = 1 - \\prod_{i \\in T} \\left(1 - r_i\\right).\n",
    "$$\n",
    "Данная вероятность относится не к конкретному турниру, а к \"среднему\" вопросу из выборки, но по ней можно отсортировать команды турнира.  \n",
    "Для игроков, которых не было в тренировочном наборе, будем использовать просто среднее значение рейтинга."
   ]
  },
  {
   "cell_type": "code",
   "execution_count": 24,
   "metadata": {},
   "outputs": [],
   "source": [
    "def evaluate_team(team):\n",
    "    res = 1\n",
    "    for player in team:\n",
    "        if player['player']['id'] in p_rates.index:\n",
    "            p = p_rates[player['player']['id']]\n",
    "        else:\n",
    "            p = p_rates.mean()\n",
    "        res *= (1 - p)\n",
    "    return 1 - res"
   ]
  },
  {
   "cell_type": "code",
   "execution_count": 25,
   "metadata": {},
   "outputs": [
    {
     "name": "stderr",
     "output_type": "stream",
     "text": [
      "C:\\Users\\Admin\\miniconda3\\lib\\site-packages\\scipy\\stats\\stats.py:4264: SpearmanRConstantInputWarning: An input array is constant; the correlation coefficent is not defined.\n",
      "  warnings.warn(SpearmanRConstantInputWarning())\n"
     ]
    },
    {
     "name": "stdout",
     "output_type": "stream",
     "text": [
      "Average Spearman correlation: 0.6626302708879771\n",
      "Average Kendall correlation: 0.5117902844153421\n"
     ]
    }
   ],
   "source": [
    "num_tournaments = 0\n",
    "spearman_coef = 0\n",
    "kendall_coef = 0\n",
    "for t_idx in tournaments_test.keys():\n",
    "    if not results[t_idx]:\n",
    "        continue\n",
    "    if not 'position' in results[t_idx][0].keys():\n",
    "        continue\n",
    "    ranks_pred = np.zeros(len(results[t_idx]))\n",
    "    ranks_true = np.zeros(len(results[t_idx]))\n",
    "    for i, result in enumerate(results[t_idx]):\n",
    "        ranks_true[i] = result['position']\n",
    "        ranks_pred[i] = evaluate_team(result['teamMembers'])\n",
    "    spearman_coef_curr = sps.spearmanr(ranks_pred, -ranks_true)[0]\n",
    "    kendall_coef_curr = sps.kendalltau(ranks_pred, -ranks_true)[0]\n",
    "    if not (np.isnan(spearman_coef_curr) or np.isnan(kendall_coef_curr)):\n",
    "        spearman_coef += spearman_coef_curr\n",
    "        kendall_coef += kendall_coef_curr\n",
    "        num_tournaments += 1\n",
    "print(f'Average Spearman correlation: {spearman_coef/num_tournaments}')\n",
    "print(f'Average Kendall correlation: {kendall_coef/num_tournaments}')"
   ]
  },
  {
   "cell_type": "markdown",
   "metadata": {},
   "source": [
    "## Task 4"
   ]
  },
  {
   "cell_type": "markdown",
   "metadata": {},
   "source": [
    "Теперь главное: ЧГК — это всё-таки командная игра. Поэтому:\n",
    " - предложите способ учитывать то, что на вопрос отвечают сразу несколько игроков; скорее всего, понадобятся скрытые переменные; не стесняйтесь делать упрощающие предположения, но теперь переменные “игрок X ответил на вопрос Y” при условии данных должны стать зависимыми для игроков одной и той же команды;\n",
    " - разработайте EM-схему для обучения этой модели, реализуйте её в коде;\n",
    " - обучите несколько итераций, убедитесь, что целевые метрики со временем растут (скорее всего, ненамного, но расти должны), выберите лучшую модель, используя целевые метрики."
   ]
  },
  {
   "cell_type": "markdown",
   "metadata": {},
   "source": [
    "Введём скрытую переменную z, обозначающую какие именно игроки взяли вопрос в команде. Если например в команде 6 игроков, и из них вопрос взяли второй и шестой игрок, то для этой комадны для данного вопроса $z = (0, 1, 0, 0, 0, 1)$. Пусть теперь $Q$ - множество всех вопросов, $T_i$ - множество команд, ответивших на $i$-й вопрос, а $M_j$ - множество игроков $j$-й команды, $p_{ki}$ - вероятность того, что $k$-й игрок взял $i$-й вопрос (предсказание модели). Тогда правдоподобие данных при известном z будет выглядеть так:\n",
    "$$\n",
    "L(\\theta, z) = p(D|\\theta, z) = \\prod_{i \\in Q} \\prod_{j \\in T_i} \\prod_{k \\in M_j} p_{ki}(\\theta)^{z_{ijk}} (1 - p_{ki}(\\theta))^{1 - z_{ijk}}.\n",
    "$$\n",
    "Логарифм правдоподобия:\n",
    "$$\n",
    "l(\\theta, z) = \\sum_{i \\in Q} \\sum_{j \\in T_i} \\sum_{k \\in M_j} z_{ijk} \\ln{(p_{ki}(\\theta))} + (1 - z_{ijk}) \\ln {(1 - p_{ki}(\\theta))}.\n",
    "$$\n",
    "По свойству линейности матожидания:\n",
    "$$\n",
    "E_z[l(\\theta, z)] = \\sum_{i \\in Q} \\sum_{j \\in T_i} \\sum_{k \\in M_j} E[z_{ijk}] \\ln{(p_{ki}(\\theta))} + (1 - E[z_{ijk}]) \\ln {(1 - p_{ki}(\\theta))}.\n",
    "$$\n",
    "В EM-алгоритме на шаге M будем максимизировать найденное матожидание по $\\theta$. Для этого обучим логистическую регрессию. В отличие от бейзлайна будем обучать такую модель:\n",
    "$$\n",
    "p_{ki} = \\sigma(w_k + w_i),\n",
    "$$\n",
    "где $w_k$ - коэффициент рейтинга $k$-ого игрока, а $w_i$ - коэффициент сложности $i$-го вопроса (чем меньше, тем вопрос сложнее). Данные коэффициенты можно обучить максимизируя по ним матожидание например с помощью градиентного подъёма."
   ]
  },
  {
   "cell_type": "markdown",
   "metadata": {},
   "source": [
    "Теперь определим E-шаг. Если команда не взяла вопрос, то нам наверняка известно что никто из игроков его не взял и $E[z_{ijk}] = 0$. В случае, если команда взяла вопрос, мы не знаем, кто именно из игроков это сделал. Пусть $A_T$ - событие того, что команда правильно ответила на вопрос, $A_i$ - событие того, что $i$-й игрок ответил на вопрос. С помощью модели мы можем предсказать $p_i = P(A_i)$. Тогда\n",
    "$$\n",
    "P(A_i|A_T) = \\frac{P(A_i, A_T)}{P(A_T)} = \\frac{P(A_i)}{P(A_T)} = \\frac{P(A_i)}{1 - \\prod_{j \\in M} (1 - P(A_j))}.\n",
    "$$\n",
    "Придерживаясь тех же обозначений, что и для M шага получаем:\n",
    "$$\n",
    "E[z_{ijk}] = \\frac{p_{ki}}{1 - \\prod_{l \\in M_j} (1 - p_{li})}\n",
    "$$"
   ]
  },
  {
   "cell_type": "code",
   "execution_count": 26,
   "metadata": {},
   "outputs": [],
   "source": [
    "enc = OneHotEncoder(handle_unknown='ignore')\n",
    "enc.fit(df_answers[['p_idx', 'q_idx']])\n",
    "X = enc.transform(df_answers[['p_idx', 'q_idx']])"
   ]
  },
  {
   "cell_type": "code",
   "execution_count": 27,
   "metadata": {},
   "outputs": [],
   "source": [
    "counts = np.array((X != 0).sum(axis=0)).ravel()"
   ]
  },
  {
   "cell_type": "code",
   "execution_count": 28,
   "metadata": {},
   "outputs": [],
   "source": [
    "w = np.random.randn(X.shape[1])\n",
    "p = 1 / (1 + np.exp(-X.dot(w)))"
   ]
  },
  {
   "cell_type": "code",
   "execution_count": 29,
   "metadata": {
    "scrolled": true
   },
   "outputs": [],
   "source": [
    "df_answers['p_neg'] = 1 - p\n",
    "dff = df_answers[['t_idx', 'q_idx', 'p_neg']].groupby(by=['t_idx', 'q_idx'], sort=False, as_index=False).prod()\n",
    "idx_from = (dff['t_idx'].apply(str) + dff['q_idx'].apply(str)).apply(int)\n",
    "idx_to = (df_answers['t_idx'].apply(str) + df_answers['q_idx'].apply(str)).apply(int)"
   ]
  },
  {
   "cell_type": "code",
   "execution_count": 30,
   "metadata": {},
   "outputs": [],
   "source": [
    "def e_step(p):\n",
    "    df_answers['p_neg'] = 1 - p\n",
    "    prods = df_answers[['t_idx', 'q_idx', 'p_neg']].groupby(by=['t_idx', 'q_idx'], sort=False, as_index=False).prod()['p_neg']\n",
    "    prods.index = idx_from\n",
    "    prods = prods[idx_to].to_numpy()\n",
    "    z = p / (1 - prods)\n",
    "    z[df_answers['ans'] == 0] = 0\n",
    "    return z"
   ]
  },
  {
   "cell_type": "code",
   "execution_count": 31,
   "metadata": {
    "scrolled": true
   },
   "outputs": [
    {
     "name": "stdout",
     "output_type": "stream",
     "text": [
      "p: [0.20983695 0.33059069 0.34917401 ... 0.16966021 0.32653708 0.16387811]\n",
      "z: [0.24689143 0.3889687  0.4108336  ... 0.         0.         0.        ]\n",
      "Wall time: 3.64 s\n"
     ]
    }
   ],
   "source": [
    "%%time\n",
    "z = e_step(p)\n",
    "print(f'p: {p}')\n",
    "print(f'z: {z}')"
   ]
  },
  {
   "cell_type": "markdown",
   "metadata": {},
   "source": [
    "Из-за того, что разные игроки играют в разное количество турниров, оптимальный шаг градиентного подъёма для каждого игрока свой (у тех кто больше играют - градиент больше, у других меньше), поэтому я нормирую градиент дополнительно на количество ненулевых элементов соответствующего признака. На практике это ускорило сходимость."
   ]
  },
  {
   "cell_type": "code",
   "execution_count": 32,
   "metadata": {},
   "outputs": [],
   "source": [
    "def m_step(X, w, z, n_iters=50, alpha=3):\n",
    "    w = w.copy()\n",
    "    for _ in range(n_iters):\n",
    "        p = 1 / (1 + np.exp(-X.dot(w)))\n",
    "        grad = (X.T).dot(z * (1 - p) - (1 - z) * p) / counts\n",
    "        w = w + alpha * grad\n",
    "    return w"
   ]
  },
  {
   "cell_type": "code",
   "execution_count": 33,
   "metadata": {},
   "outputs": [],
   "source": [
    "def log_likelihood(z, X, w):\n",
    "    p = 1 / (1 + np.exp(-X.dot(w)))\n",
    "    return np.mean(z * np.log(p) + (1 - z) * np.log(1 - p))"
   ]
  },
  {
   "cell_type": "code",
   "execution_count": 34,
   "metadata": {
    "scrolled": false
   },
   "outputs": [
    {
     "name": "stdout",
     "output_type": "stream",
     "text": [
      "Wall time: 833 ms\n"
     ]
    },
    {
     "data": {
      "text/plain": [
       "-0.7528298451292433"
      ]
     },
     "execution_count": 34,
     "metadata": {},
     "output_type": "execute_result"
    }
   ],
   "source": [
    "%%time\n",
    "log_likelihood(z, X, w)"
   ]
  },
  {
   "cell_type": "code",
   "execution_count": 35,
   "metadata": {},
   "outputs": [
    {
     "data": {
      "application/vnd.jupyter.widget-view+json": {
       "model_id": "8653f5006d7e458c80072eb9601d3e3a",
       "version_major": 2,
       "version_minor": 0
      },
      "text/plain": [
       "  0%|          | 0/50 [00:00<?, ?it/s]"
      ]
     },
     "metadata": {},
     "output_type": "display_data"
    },
    {
     "name": "stdout",
     "output_type": "stream",
     "text": [
      "Log likelihood after cycle   1: -0.3650119267316714.\n",
      "Log likelihood after cycle   2: -0.3207331678702701.\n",
      "Log likelihood after cycle   3: -0.30965070025501684.\n",
      "Log likelihood after cycle   4: -0.3055823638267537.\n",
      "Log likelihood after cycle   5: -0.3036547714913641.\n",
      "Log likelihood after cycle   6: -0.30255035533227465.\n",
      "Log likelihood after cycle   7: -0.30181576491064277.\n",
      "Log likelihood after cycle   8: -0.30126633683942644.\n",
      "Log likelihood after cycle   9: -0.3008168994804236.\n",
      "Log likelihood after cycle  10: -0.30042451173630386.\n",
      "Log likelihood after cycle  11: -0.3000661593116079.\n",
      "Log likelihood after cycle  12: -0.2997289871160285.\n",
      "Log likelihood after cycle  13: -0.2994056100607018.\n",
      "Log likelihood after cycle  14: -0.29909169926102364.\n",
      "Log likelihood after cycle  15: -0.29878467538247405.\n",
      "Log likelihood after cycle  16: -0.29848297858581035.\n",
      "Log likelihood after cycle  17: -0.29818565254093843.\n",
      "Log likelihood after cycle  18: -0.2978921047633749.\n",
      "Log likelihood after cycle  19: -0.29760196849449766.\n",
      "Log likelihood after cycle  20: -0.2973150238786749.\n",
      "Log likelihood after cycle  21: -0.2970311517302161.\n",
      "Log likelihood after cycle  22: -0.29675030079417886.\n",
      "Log likelihood after cycle  23: -0.29647245843876957.\n",
      "Log likelihood after cycle  24: -0.296197626367398.\n",
      "Log likelihood after cycle  25: -0.2959258069361256.\n",
      "Log likelihood after cycle  26: -0.2956569994964785.\n",
      "Log likelihood after cycle  27: -0.29539120105222066.\n",
      "Log likelihood after cycle  28: -0.2951284070337402.\n",
      "Log likelihood after cycle  29: -0.2948686117500935.\n",
      "Log likelihood after cycle  30: -0.2946118099048359.\n",
      "Log likelihood after cycle  31: -0.2943579994420675.\n",
      "Log likelihood after cycle  32: -0.29410718348139747.\n",
      "Log likelihood after cycle  33: -0.29385936821627084.\n",
      "Log likelihood after cycle  34: -0.29361455588634666.\n",
      "Log likelihood after cycle  35: -0.2933727359614671.\n",
      "Log likelihood after cycle  36: -0.2931338795775734.\n",
      "Log likelihood after cycle  37: -0.29289793990171775.\n",
      "Log likelihood after cycle  38: -0.2926648572078597.\n",
      "Log likelihood after cycle  39: -0.2924345655837452.\n",
      "Log likelihood after cycle  40: -0.29220699863057514.\n",
      "Log likelihood after cycle  41: -0.2919820927584842.\n",
      "Log likelihood after cycle  42: -0.29175978795930424.\n",
      "Log likelihood after cycle  43: -0.2915400270180895.\n",
      "Log likelihood after cycle  44: -0.29132275453522144.\n",
      "Log likelihood after cycle  45: -0.29110791664533736.\n",
      "Log likelihood after cycle  46: -0.29089546146766093.\n",
      "Log likelihood after cycle  47: -0.29068533982163447.\n",
      "Log likelihood after cycle  48: -0.29047750575968784.\n",
      "Log likelihood after cycle  49: -0.29027191670812497.\n",
      "Log likelihood after cycle  50: -0.2900685331861132.\n"
     ]
    }
   ],
   "source": [
    "n_cycles = 50\n",
    "for i in tqdm(range(n_cycles)):\n",
    "    if i == 0:\n",
    "        p = 1 / (1 + np.exp(-X.dot(w)))\n",
    "        z = e_step(p)\n",
    "    w = m_step(X, w, z)\n",
    "    p = 1 / (1 + np.exp(-X.dot(w)))\n",
    "    z = e_step(p)\n",
    "    print(f'Log likelihood after cycle {i+1:3}: {log_likelihood(z, X, w)}.')"
   ]
  },
  {
   "cell_type": "code",
   "execution_count": 36,
   "metadata": {},
   "outputs": [],
   "source": [
    "idx_to_position = {}\n",
    "for i, fname in enumerate(enc.get_feature_names()):\n",
    "    idx_to_position[int(fname[3:])] = i"
   ]
  },
  {
   "cell_type": "code",
   "execution_count": 37,
   "metadata": {
    "scrolled": false
   },
   "outputs": [],
   "source": [
    "p_weights = pd.Series(np.zeros(len(df_answers['p_idx'].unique())),\n",
    "                      df_answers['p_idx'].unique())\n",
    "for player in df_answers['p_idx'].unique():\n",
    "    p_weights[player] = w[idx_to_position[player]]"
   ]
  },
  {
   "cell_type": "code",
   "execution_count": 38,
   "metadata": {},
   "outputs": [],
   "source": [
    "q_weights = pd.Series(np.zeros(len(df_answers['q_idx'].unique())),\n",
    "                      df_answers['q_idx'].unique())\n",
    "for question in df_answers['q_idx'].unique():\n",
    "    q_weights[question] = w[idx_to_position[question]]"
   ]
  },
  {
   "cell_type": "markdown",
   "metadata": {},
   "source": [
    "Найдём распределение сложности вопросов"
   ]
  },
  {
   "cell_type": "code",
   "execution_count": 39,
   "metadata": {},
   "outputs": [
    {
     "data": {
      "text/plain": [
       "<AxesSubplot:>"
      ]
     },
     "execution_count": 39,
     "metadata": {},
     "output_type": "execute_result"
    },
    {
     "data": {
      "image/png": "[encoded data removed]",
      "text/plain": [
       "<Figure size 432x288 with 1 Axes>"
      ]
     },
     "metadata": {
      "needs_background": "light"
     },
     "output_type": "display_data"
    }
   ],
   "source": [
    "q_weights.hist(bins=100)"
   ]
  },
  {
   "cell_type": "markdown",
   "metadata": {},
   "source": [
    "Также как и для бейзлайна, для определения рейтинга игрока численно проинтегрируем вероятность игрока ответить на вопрос по распределению сложностей."
   ]
  },
  {
   "cell_type": "code",
   "execution_count": 40,
   "metadata": {},
   "outputs": [
    {
     "name": "stdout",
     "output_type": "stream",
     "text": [
      "Sanity check: 0.9999684771301578\n"
     ]
    }
   ],
   "source": [
    "n_bins = 100\n",
    "space = np.linspace(q_weights.min(), q_weights.max(), n_bins+1)\n",
    "bounds = np.stack([space[:-1], space[1:]]).T\n",
    "diff_space = bounds.mean(axis=1)\n",
    "diff_probs = np.array([((q_weights >= bound[0]) & (q_weights < bound[1])).sum() for bound in bounds])\n",
    "diff_probs = diff_probs / len(q_weights)\n",
    "print(f'Sanity check: {diff_probs.sum()}')"
   ]
  },
  {
   "cell_type": "code",
   "execution_count": 41,
   "metadata": {
    "scrolled": true
   },
   "outputs": [
    {
     "data": {
      "image/png": "[encoded data removed]",
      "text/plain": [
       "<Figure size 432x288 with 1 Axes>"
      ]
     },
     "metadata": {
      "needs_background": "light"
     },
     "output_type": "display_data"
    }
   ],
   "source": [
    "plt.plot(diff_space, diff_probs)\n",
    "plt.title('Empirical probabilities')\n",
    "plt.show()"
   ]
  },
  {
   "cell_type": "code",
   "execution_count": 42,
   "metadata": {
    "scrolled": true
   },
   "outputs": [],
   "source": [
    "p_rates = pd.Series(np.zeros(len(df_answers['p_idx'].unique()), dtype=float),\n",
    "                      index=df_answers['p_idx'].unique())\n",
    "for idx in df_answers['p_idx'].unique():\n",
    "    preds = 1 / (1 + np.exp(-(p_weights[idx] + diff_space)))\n",
    "    rate = np.dot(preds, diff_probs)\n",
    "    p_rates[idx] = rate"
   ]
  },
  {
   "cell_type": "code",
   "execution_count": 43,
   "metadata": {},
   "outputs": [],
   "source": [
    "p_rates.to_csv('data/p_rates_em.csv')"
   ]
  },
  {
   "cell_type": "markdown",
   "metadata": {},
   "source": [
    "Распределение рейтингов"
   ]
  },
  {
   "cell_type": "code",
   "execution_count": 44,
   "metadata": {},
   "outputs": [
    {
     "data": {
      "text/plain": [
       "<AxesSubplot:>"
      ]
     },
     "execution_count": 44,
     "metadata": {},
     "output_type": "execute_result"
    },
    {
     "data": {
      "image/png": "[encoded data removed]",
      "text/plain": [
       "<Figure size 432x288 with 1 Axes>"
      ]
     },
     "metadata": {
      "needs_background": "light"
     },
     "output_type": "display_data"
    }
   ],
   "source": [
    "p_rates.hist(bins=100)"
   ]
  },
  {
   "cell_type": "markdown",
   "metadata": {},
   "source": [
    "Рейтинг игроков, находящихся в первой десятке по официальному рейтингу на сайте рейтинга чгк (релиз 25 декабря 2020 года):"
   ]
  },
  {
   "cell_type": "code",
   "execution_count": 45,
   "metadata": {},
   "outputs": [
    {
     "name": "stdout",
     "output_type": "stream",
     "text": [
      "1. Артём Сергеевич Сорожкин: 0.5424279227899826\n",
      "2. Иван Николаевич Семушин: 0.3533854610193541\n",
      "3. Михаил Владимирович Савченков: 0.4355379524802717\n",
      "4. Сергей Леонидович Спешков: 0.42680196823829997\n",
      "5. Максим Михайлович Руссо: 0.25970149917521607\n",
      "6. Александра Владимировна Брутер: 0.5365050496673396\n",
      "7. Александр Витальевич Либер: 0.5031163460799808\n",
      "8. Михаил Ильич Левандовский: 0.2544014508991115\n",
      "9. Ким Гагикович Галачян: 0.33949786534644005\n",
      "10. Сергей Игоревич Николенко: 0.4766384236337269\n"
     ]
    }
   ],
   "source": [
    "top_idxs =[30152, 28751, 27822, 30270, 27403, 4270, 18332, 18036, 6482, 22799]\n",
    "for place, idx in enumerate(top_idxs, 1):\n",
    "    player = players[idx]\n",
    "    print(f\"{place}. {player['name']} {player['patronymic']} {player['surname']}: {p_rates[idx]}\")"
   ]
  },
  {
   "cell_type": "code",
   "execution_count": 46,
   "metadata": {},
   "outputs": [
    {
     "name": "stderr",
     "output_type": "stream",
     "text": [
      "C:\\Users\\Admin\\miniconda3\\lib\\site-packages\\scipy\\stats\\stats.py:4264: SpearmanRConstantInputWarning: An input array is constant; the correlation coefficent is not defined.\n",
      "  warnings.warn(SpearmanRConstantInputWarning())\n"
     ]
    },
    {
     "name": "stdout",
     "output_type": "stream",
     "text": [
      "Average Spearman correlation: 0.760851648443477\n",
      "Average Kendall correlation: 0.6047793359306585\n"
     ]
    }
   ],
   "source": [
    "num_tournaments = 0\n",
    "spearman_coef = 0\n",
    "kendall_coef = 0\n",
    "for t_idx in tournaments_test.keys():\n",
    "    if not results[t_idx]:\n",
    "        continue\n",
    "    if not 'position' in results[t_idx][0].keys():\n",
    "        continue\n",
    "    ranks_pred = np.zeros(len(results[t_idx]))\n",
    "    ranks_true = np.zeros(len(results[t_idx]))\n",
    "    for i, result in enumerate(results[t_idx]):\n",
    "        ranks_true[i] = result['position']\n",
    "        ranks_pred[i] = evaluate_team(result['teamMembers'])\n",
    "    spearman_coef_curr = sps.spearmanr(ranks_pred, -ranks_true)[0]\n",
    "    kendall_coef_curr = sps.kendalltau(ranks_pred, -ranks_true)[0]\n",
    "    if not (np.isnan(spearman_coef_curr) or np.isnan(kendall_coef_curr)):\n",
    "        spearman_coef += spearman_coef_curr\n",
    "        kendall_coef += kendall_coef_curr\n",
    "        num_tournaments += 1\n",
    "print(f'Average Spearman correlation: {spearman_coef/num_tournaments}')\n",
    "print(f'Average Kendall correlation: {kendall_coef/num_tournaments}')"
   ]
  },
  {
   "cell_type": "markdown",
   "metadata": {},
   "source": [
    "# Task 5"
   ]
  },
  {
   "cell_type": "markdown",
   "metadata": {},
   "source": [
    "А что там с вопросами? Постройте “рейтинг-лист” турниров по сложности вопросов. Соответствует ли он интуиции (например, на чемпионате мира в целом должны быть сложные вопросы, а на турнирах для школьников — простые)? Если будет интересно: постройте топ сложных и простых вопросов со ссылками на конкретные записи в базе вопросов ЧГК (это чисто техническое дело, тут никакого ML нету)."
   ]
  },
  {
   "cell_type": "code",
   "execution_count": 47,
   "metadata": {},
   "outputs": [],
   "source": [
    "tournament_diffs = {}\n",
    "for tournament in tournaments_train.keys():\n",
    "    tournament_diff = 0\n",
    "    n_questions = 0\n",
    "    if len(results[tournament]) == 0:\n",
    "        continue\n",
    "    if not 'mask' in results[tournament][0].keys():\n",
    "        continue\n",
    "    for i in range(len(results[tournament][0]['mask'] or [])):\n",
    "        q_idx = tournament*10000 + i\n",
    "        try:\n",
    "            tournament_diff -= w[idx_to_position[q_idx]]\n",
    "            n_questions += 1\n",
    "        except KeyError:\n",
    "            pass\n",
    "    if n_questions > 0:\n",
    "        tournament_diffs[tournament] = tournament_diff / n_questions"
   ]
  },
  {
   "cell_type": "code",
   "execution_count": 48,
   "metadata": {},
   "outputs": [],
   "source": [
    "tournament_diffs = pd.Series(tournament_diffs).sort_values(ascending=False)"
   ]
  },
  {
   "cell_type": "code",
   "execution_count": 49,
   "metadata": {},
   "outputs": [
    {
     "name": "stdout",
     "output_type": "stream",
     "text": [
      "Самые сложные турниры:\n",
      " 1. Чемпионат Санкт-Петербурга. Первая лига\n",
      " 2. (А) Славянка без раздаток. 4 этап\n",
      " 3. Зеркало мемориала памяти Михаила Басса\n",
      " 4. Угрюмый Ёрш\n",
      " 5. Воображаемый музей\n",
      " 6. Чемпионат Таджикистана\n",
      " 7. Чемпионат Мира. Этап 2 Группа С\n",
      " 8. Седьмая октава: Кубок Равноденствия. Лига Наций: Прибалтика\n",
      " 9. Первенство правого полушария\n",
      "10. День D\n"
     ]
    }
   ],
   "source": [
    "print('Самые сложные турниры:')\n",
    "for i, tournament in enumerate(tournament_diffs.index[:10], 1):\n",
    "    print(f'{i:2}. {tournaments[tournament][\"name\"]}')"
   ]
  },
  {
   "cell_type": "code",
   "execution_count": 50,
   "metadata": {},
   "outputs": [
    {
     "name": "stdout",
     "output_type": "stream",
     "text": [
      "Самые простые турниры:\n",
      " 1. One ring - async\n",
      " 2. Синхрон Лиги Разума\n",
      " 3. Школьная лига. III тур.\n",
      " 4. (а)Синхрон-lite. Лига старта. Эпизод V\n",
      " 5. Школьная лига. I тур.\n",
      " 6. Школьный Синхрон-lite. Выпуск 2.5\n",
      " 7. Межфакультетский кубок МГУ. Отбор №4\n",
      " 8. (а)Синхрон-lite. Лига старта. Эпизод VII\n",
      " 9. Школьная лига\n",
      "10. Школьная лига. II тур.\n"
     ]
    }
   ],
   "source": [
    "print('Самые простые турниры:')\n",
    "for i, tournament in enumerate(tournament_diffs.index[-1:-11:-1], 1):\n",
    "    print(f'{i:2}. {tournaments[tournament][\"name\"]}')"
   ]
  },
  {
   "cell_type": "markdown",
   "metadata": {},
   "source": [
    "Результаты действительно соответствуют интуиции."
   ]
  },
  {
   "cell_type": "markdown",
   "metadata": {},
   "source": [
    "# Task 6"
   ]
  },
  {
   "cell_type": "code",
   "execution_count": 51,
   "metadata": {},
   "outputs": [],
   "source": [
    "def make_top_table(min_questions, length=20):\n",
    "    df_res = {\n",
    "        'place': [],\n",
    "        'name': [],\n",
    "        'patronymic': [],\n",
    "        'surname': [],\n",
    "        'rate': [],\n",
    "        'questions': [],\n",
    "    }\n",
    "    global p_rates\n",
    "    p_rates = p_rates.sort_values(ascending=False)\n",
    "    for p_idx in p_rates.index:\n",
    "        questions = (df_answers['p_idx'] == p_idx).sum()\n",
    "        if questions >= min_questions:\n",
    "            df_res['place'].append(len(df_res['place']) + 1)\n",
    "            df_res['name'].append(players[p_idx]['name'])\n",
    "            df_res['patronymic'].append(players[p_idx]['patronymic'])\n",
    "            df_res['surname'].append(players[p_idx]['surname'])\n",
    "            df_res['rate'].append(p_rates[p_idx])\n",
    "            df_res['questions'].append(questions)\n",
    "            if len(df_res['place']) == length:\n",
    "                break\n",
    "    df_res = pd.DataFrame(df_res)\n",
    "    df_res.index = df_res['place']\n",
    "    df_res = df_res.drop(['place'], axis=1)\n",
    "    return df_res"
   ]
  },
  {
   "cell_type": "code",
   "execution_count": 52,
   "metadata": {
    "scrolled": false
   },
   "outputs": [
    {
     "data": {
      "text/html": [
       "<div>\n",
       "<style scoped>\n",
       "    .dataframe tbody tr th:only-of-type {\n",
       "        vertical-align: middle;\n",
       "    }\n",
       "\n",
       "    .dataframe tbody tr th {\n",
       "        vertical-align: top;\n",
       "    }\n",
       "\n",
       "    .dataframe thead th {\n",
       "        text-align: right;\n",
       "    }\n",
       "</style>\n",
       "<table border=\"1\" class=\"dataframe\">\n",
       "  <thead>\n",
       "    <tr style=\"text-align: right;\">\n",
       "      <th></th>\n",
       "      <th>name</th>\n",
       "      <th>patronymic</th>\n",
       "      <th>surname</th>\n",
       "      <th>rate</th>\n",
       "      <th>questions</th>\n",
       "    </tr>\n",
       "    <tr>\n",
       "      <th>place</th>\n",
       "      <th></th>\n",
       "      <th></th>\n",
       "      <th></th>\n",
       "      <th></th>\n",
       "      <th></th>\n",
       "    </tr>\n",
       "  </thead>\n",
       "  <tbody>\n",
       "    <tr>\n",
       "      <th>1</th>\n",
       "      <td>Юрий</td>\n",
       "      <td>Леонидович</td>\n",
       "      <td>Фёдоров</td>\n",
       "      <td>0.988571</td>\n",
       "      <td>6</td>\n",
       "    </tr>\n",
       "    <tr>\n",
       "      <th>2</th>\n",
       "      <td>Юлия</td>\n",
       "      <td>Александровна</td>\n",
       "      <td>Чернышёва</td>\n",
       "      <td>0.982070</td>\n",
       "      <td>2</td>\n",
       "    </tr>\n",
       "    <tr>\n",
       "      <th>3</th>\n",
       "      <td>Вячеслав</td>\n",
       "      <td>Игоревич</td>\n",
       "      <td>Филитов</td>\n",
       "      <td>0.981959</td>\n",
       "      <td>1</td>\n",
       "    </tr>\n",
       "    <tr>\n",
       "      <th>4</th>\n",
       "      <td>Алексей</td>\n",
       "      <td>Вячеславович</td>\n",
       "      <td>Синицин</td>\n",
       "      <td>0.979731</td>\n",
       "      <td>1</td>\n",
       "    </tr>\n",
       "    <tr>\n",
       "      <th>5</th>\n",
       "      <td>Анна</td>\n",
       "      <td>Ивановна</td>\n",
       "      <td>Пятибратова</td>\n",
       "      <td>0.976216</td>\n",
       "      <td>5</td>\n",
       "    </tr>\n",
       "    <tr>\n",
       "      <th>6</th>\n",
       "      <td>Илья</td>\n",
       "      <td>Сергеевич</td>\n",
       "      <td>Кижватов</td>\n",
       "      <td>0.976111</td>\n",
       "      <td>2</td>\n",
       "    </tr>\n",
       "    <tr>\n",
       "      <th>7</th>\n",
       "      <td>Роман</td>\n",
       "      <td>Валерьевич</td>\n",
       "      <td>Тронин</td>\n",
       "      <td>0.976030</td>\n",
       "      <td>1</td>\n",
       "    </tr>\n",
       "    <tr>\n",
       "      <th>8</th>\n",
       "      <td>Рита</td>\n",
       "      <td></td>\n",
       "      <td>Полонская</td>\n",
       "      <td>0.975287</td>\n",
       "      <td>1</td>\n",
       "    </tr>\n",
       "    <tr>\n",
       "      <th>9</th>\n",
       "      <td>Олег</td>\n",
       "      <td></td>\n",
       "      <td>Садовец</td>\n",
       "      <td>0.974180</td>\n",
       "      <td>5</td>\n",
       "    </tr>\n",
       "    <tr>\n",
       "      <th>10</th>\n",
       "      <td>Ирина</td>\n",
       "      <td>Николаевна</td>\n",
       "      <td>Сажнёва</td>\n",
       "      <td>0.973741</td>\n",
       "      <td>5</td>\n",
       "    </tr>\n",
       "    <tr>\n",
       "      <th>11</th>\n",
       "      <td>Виталий</td>\n",
       "      <td></td>\n",
       "      <td>Широков</td>\n",
       "      <td>0.973513</td>\n",
       "      <td>2</td>\n",
       "    </tr>\n",
       "    <tr>\n",
       "      <th>12</th>\n",
       "      <td>Юлия</td>\n",
       "      <td>Валерьевна</td>\n",
       "      <td>Савинова</td>\n",
       "      <td>0.973217</td>\n",
       "      <td>5</td>\n",
       "    </tr>\n",
       "    <tr>\n",
       "      <th>13</th>\n",
       "      <td>Владимир</td>\n",
       "      <td></td>\n",
       "      <td>Карукес</td>\n",
       "      <td>0.971566</td>\n",
       "      <td>1</td>\n",
       "    </tr>\n",
       "    <tr>\n",
       "      <th>14</th>\n",
       "      <td>Юрий</td>\n",
       "      <td>Александрович</td>\n",
       "      <td>Кубанков</td>\n",
       "      <td>0.970678</td>\n",
       "      <td>1</td>\n",
       "    </tr>\n",
       "    <tr>\n",
       "      <th>15</th>\n",
       "      <td>Евгений</td>\n",
       "      <td>Александрович</td>\n",
       "      <td>Куликов</td>\n",
       "      <td>0.968773</td>\n",
       "      <td>5</td>\n",
       "    </tr>\n",
       "    <tr>\n",
       "      <th>16</th>\n",
       "      <td>Евдокия</td>\n",
       "      <td></td>\n",
       "      <td>Слепухина</td>\n",
       "      <td>0.967947</td>\n",
       "      <td>1</td>\n",
       "    </tr>\n",
       "    <tr>\n",
       "      <th>17</th>\n",
       "      <td>Максим</td>\n",
       "      <td></td>\n",
       "      <td>Ковнер</td>\n",
       "      <td>0.965374</td>\n",
       "      <td>1</td>\n",
       "    </tr>\n",
       "    <tr>\n",
       "      <th>18</th>\n",
       "      <td>Алиса</td>\n",
       "      <td></td>\n",
       "      <td>Айсуги</td>\n",
       "      <td>0.965159</td>\n",
       "      <td>1</td>\n",
       "    </tr>\n",
       "    <tr>\n",
       "      <th>19</th>\n",
       "      <td>Павел</td>\n",
       "      <td>Геннадьевич</td>\n",
       "      <td>Федорович</td>\n",
       "      <td>0.964572</td>\n",
       "      <td>1</td>\n",
       "    </tr>\n",
       "    <tr>\n",
       "      <th>20</th>\n",
       "      <td>Евгений</td>\n",
       "      <td></td>\n",
       "      <td>Дворников</td>\n",
       "      <td>0.960865</td>\n",
       "      <td>1</td>\n",
       "    </tr>\n",
       "  </tbody>\n",
       "</table>\n",
       "</div>"
      ],
      "text/plain": [
       "           name     patronymic      surname      rate  questions\n",
       "place                                                           \n",
       "1          Юрий     Леонидович      Фёдоров  0.988571          6\n",
       "2          Юлия  Александровна    Чернышёва  0.982070          2\n",
       "3      Вячеслав       Игоревич      Филитов  0.981959          1\n",
       "4       Алексей   Вячеславович      Синицин  0.979731          1\n",
       "5          Анна       Ивановна  Пятибратова  0.976216          5\n",
       "6          Илья      Сергеевич     Кижватов  0.976111          2\n",
       "7         Роман     Валерьевич       Тронин  0.976030          1\n",
       "8          Рита                   Полонская  0.975287          1\n",
       "9          Олег                     Садовец  0.974180          5\n",
       "10        Ирина     Николаевна      Сажнёва  0.973741          5\n",
       "11      Виталий                     Широков  0.973513          2\n",
       "12         Юлия     Валерьевна     Савинова  0.973217          5\n",
       "13     Владимир                     Карукес  0.971566          1\n",
       "14         Юрий  Александрович     Кубанков  0.970678          1\n",
       "15      Евгений  Александрович      Куликов  0.968773          5\n",
       "16      Евдокия                   Слепухина  0.967947          1\n",
       "17       Максим                      Ковнер  0.965374          1\n",
       "18        Алиса                      Айсуги  0.965159          1\n",
       "19        Павел    Геннадьевич    Федорович  0.964572          1\n",
       "20      Евгений                   Дворников  0.960865          1"
      ]
     },
     "execution_count": 52,
     "metadata": {},
     "output_type": "execute_result"
    }
   ],
   "source": [
    "make_top_table(min_questions=0)"
   ]
  },
  {
   "cell_type": "markdown",
   "metadata": {},
   "source": [
    "Как видно, в топ попали игроки, у которых очень мало сыграных вопросов. Попробуем брать в топ исключительно тех игроков, у кого сыграно более 1000 вопросов."
   ]
  },
  {
   "cell_type": "code",
   "execution_count": 53,
   "metadata": {},
   "outputs": [
    {
     "data": {
      "text/html": [
       "<div>\n",
       "<style scoped>\n",
       "    .dataframe tbody tr th:only-of-type {\n",
       "        vertical-align: middle;\n",
       "    }\n",
       "\n",
       "    .dataframe tbody tr th {\n",
       "        vertical-align: top;\n",
       "    }\n",
       "\n",
       "    .dataframe thead th {\n",
       "        text-align: right;\n",
       "    }\n",
       "</style>\n",
       "<table border=\"1\" class=\"dataframe\">\n",
       "  <thead>\n",
       "    <tr style=\"text-align: right;\">\n",
       "      <th></th>\n",
       "      <th>name</th>\n",
       "      <th>patronymic</th>\n",
       "      <th>surname</th>\n",
       "      <th>rate</th>\n",
       "      <th>questions</th>\n",
       "    </tr>\n",
       "    <tr>\n",
       "      <th>place</th>\n",
       "      <th></th>\n",
       "      <th></th>\n",
       "      <th></th>\n",
       "      <th></th>\n",
       "      <th></th>\n",
       "    </tr>\n",
       "  </thead>\n",
       "  <tbody>\n",
       "    <tr>\n",
       "      <th>1</th>\n",
       "      <td>Игорь</td>\n",
       "      <td>Викторович</td>\n",
       "      <td>Мокин</td>\n",
       "      <td>0.595434</td>\n",
       "      <td>1220</td>\n",
       "    </tr>\n",
       "    <tr>\n",
       "      <th>2</th>\n",
       "      <td>Александр</td>\n",
       "      <td>Геннадьевич</td>\n",
       "      <td>Коробейников</td>\n",
       "      <td>0.553043</td>\n",
       "      <td>1392</td>\n",
       "    </tr>\n",
       "    <tr>\n",
       "      <th>3</th>\n",
       "      <td>Артём</td>\n",
       "      <td>Сергеевич</td>\n",
       "      <td>Сорожкин</td>\n",
       "      <td>0.542428</td>\n",
       "      <td>4708</td>\n",
       "    </tr>\n",
       "    <tr>\n",
       "      <th>4</th>\n",
       "      <td>Илья</td>\n",
       "      <td>Сергеевич</td>\n",
       "      <td>Новиков</td>\n",
       "      <td>0.542211</td>\n",
       "      <td>1447</td>\n",
       "    </tr>\n",
       "    <tr>\n",
       "      <th>5</th>\n",
       "      <td>Александра</td>\n",
       "      <td>Владимировна</td>\n",
       "      <td>Брутер</td>\n",
       "      <td>0.536505</td>\n",
       "      <td>2756</td>\n",
       "    </tr>\n",
       "    <tr>\n",
       "      <th>6</th>\n",
       "      <td>Александр</td>\n",
       "      <td>Валерьевич</td>\n",
       "      <td>Марков</td>\n",
       "      <td>0.535622</td>\n",
       "      <td>2877</td>\n",
       "    </tr>\n",
       "    <tr>\n",
       "      <th>7</th>\n",
       "      <td>Наталья</td>\n",
       "      <td>Алексеевна</td>\n",
       "      <td>Кудряшова</td>\n",
       "      <td>0.532637</td>\n",
       "      <td>2431</td>\n",
       "    </tr>\n",
       "    <tr>\n",
       "      <th>8</th>\n",
       "      <td>Алексей</td>\n",
       "      <td>Владимирович</td>\n",
       "      <td>Гилёв</td>\n",
       "      <td>0.520566</td>\n",
       "      <td>4334</td>\n",
       "    </tr>\n",
       "    <tr>\n",
       "      <th>9</th>\n",
       "      <td>Максим</td>\n",
       "      <td>Владимирович</td>\n",
       "      <td>Феоктистов</td>\n",
       "      <td>0.509007</td>\n",
       "      <td>2711</td>\n",
       "    </tr>\n",
       "    <tr>\n",
       "      <th>10</th>\n",
       "      <td>Андрей</td>\n",
       "      <td>Александрович</td>\n",
       "      <td>Волыхов</td>\n",
       "      <td>0.506188</td>\n",
       "      <td>4059</td>\n",
       "    </tr>\n",
       "    <tr>\n",
       "      <th>11</th>\n",
       "      <td>Александр</td>\n",
       "      <td>Витальевич</td>\n",
       "      <td>Либер</td>\n",
       "      <td>0.503116</td>\n",
       "      <td>3587</td>\n",
       "    </tr>\n",
       "    <tr>\n",
       "      <th>12</th>\n",
       "      <td>Максим</td>\n",
       "      <td>Петрович</td>\n",
       "      <td>Мерзляков</td>\n",
       "      <td>0.498268</td>\n",
       "      <td>1260</td>\n",
       "    </tr>\n",
       "    <tr>\n",
       "      <th>13</th>\n",
       "      <td>Иван</td>\n",
       "      <td>Александрович</td>\n",
       "      <td>Топчий</td>\n",
       "      <td>0.496668</td>\n",
       "      <td>2709</td>\n",
       "    </tr>\n",
       "    <tr>\n",
       "      <th>14</th>\n",
       "      <td>Станислав</td>\n",
       "      <td>Григорьевич</td>\n",
       "      <td>Мереминский</td>\n",
       "      <td>0.494748</td>\n",
       "      <td>1616</td>\n",
       "    </tr>\n",
       "    <tr>\n",
       "      <th>15</th>\n",
       "      <td>Антон</td>\n",
       "      <td>Андреевич</td>\n",
       "      <td>Мартыненко</td>\n",
       "      <td>0.494668</td>\n",
       "      <td>2403</td>\n",
       "    </tr>\n",
       "    <tr>\n",
       "      <th>16</th>\n",
       "      <td>Михаил</td>\n",
       "      <td>Андреевич</td>\n",
       "      <td>Новосёлов</td>\n",
       "      <td>0.494327</td>\n",
       "      <td>2986</td>\n",
       "    </tr>\n",
       "    <tr>\n",
       "      <th>17</th>\n",
       "      <td>Игорь</td>\n",
       "      <td>Александрович</td>\n",
       "      <td>Андреев</td>\n",
       "      <td>0.494309</td>\n",
       "      <td>3170</td>\n",
       "    </tr>\n",
       "    <tr>\n",
       "      <th>18</th>\n",
       "      <td>Владимир</td>\n",
       "      <td>Рейнгольдович</td>\n",
       "      <td>Садов</td>\n",
       "      <td>0.490237</td>\n",
       "      <td>1194</td>\n",
       "    </tr>\n",
       "    <tr>\n",
       "      <th>19</th>\n",
       "      <td>Владимир</td>\n",
       "      <td>Игоревич</td>\n",
       "      <td>Цвингли</td>\n",
       "      <td>0.485765</td>\n",
       "      <td>1430</td>\n",
       "    </tr>\n",
       "    <tr>\n",
       "      <th>20</th>\n",
       "      <td>Александр</td>\n",
       "      <td>Михайлович</td>\n",
       "      <td>Булавчук</td>\n",
       "      <td>0.481937</td>\n",
       "      <td>2316</td>\n",
       "    </tr>\n",
       "  </tbody>\n",
       "</table>\n",
       "</div>"
      ],
      "text/plain": [
       "             name     patronymic       surname      rate  questions\n",
       "place                                                              \n",
       "1           Игорь     Викторович         Мокин  0.595434       1220\n",
       "2       Александр    Геннадьевич  Коробейников  0.553043       1392\n",
       "3           Артём      Сергеевич      Сорожкин  0.542428       4708\n",
       "4            Илья      Сергеевич       Новиков  0.542211       1447\n",
       "5      Александра   Владимировна        Брутер  0.536505       2756\n",
       "6       Александр     Валерьевич        Марков  0.535622       2877\n",
       "7         Наталья     Алексеевна     Кудряшова  0.532637       2431\n",
       "8         Алексей   Владимирович         Гилёв  0.520566       4334\n",
       "9          Максим   Владимирович    Феоктистов  0.509007       2711\n",
       "10         Андрей  Александрович       Волыхов  0.506188       4059\n",
       "11      Александр     Витальевич         Либер  0.503116       3587\n",
       "12         Максим       Петрович     Мерзляков  0.498268       1260\n",
       "13           Иван  Александрович        Топчий  0.496668       2709\n",
       "14      Станислав    Григорьевич   Мереминский  0.494748       1616\n",
       "15          Антон      Андреевич    Мартыненко  0.494668       2403\n",
       "16         Михаил      Андреевич     Новосёлов  0.494327       2986\n",
       "17          Игорь  Александрович       Андреев  0.494309       3170\n",
       "18       Владимир  Рейнгольдович         Садов  0.490237       1194\n",
       "19       Владимир       Игоревич       Цвингли  0.485765       1430\n",
       "20      Александр     Михайлович      Булавчук  0.481937       2316"
      ]
     },
     "execution_count": 53,
     "metadata": {},
     "output_type": "execute_result"
    }
   ],
   "source": [
    "make_top_table(min_questions=1000)"
   ]
  },
  {
   "cell_type": "markdown",
   "metadata": {},
   "source": [
    "Теперь в топ попали действительно хорошие игроки, находящиеся в топе на сайте рейтинга. Но для составления рейтинг-системы было бы несправедливо просто выкинуть тех игроков, кто сыграл мало турниров, но сыграл их хорошо, ведь их тоже нужно как-то сравнивать между собой. Попробуем сделать что-то вроде байесовского сглаживания. Из результатов рейтинга без сглаживания видно, что у большинства игроков вероятность взять случайный вопрос из базы достаточно мала, поэтому ожидается что новые игроки поначалу будут играть плохо. Добавим каждому игроку одинаковое количество неправильно отвеченных вопросов в таблицу (например 150, что соответствует трём турнирам - это число можно подбирать на валидации). Тогда рейтинг всех игроков понизится, но в особенности к этому будет чувствителен рейтинг игроков, сыгравших мало игр."
   ]
  },
  {
   "cell_type": "code",
   "execution_count": 54,
   "metadata": {},
   "outputs": [],
   "source": [
    "enc = OneHotEncoder(handle_unknown='ignore')\n",
    "enc.fit(df_answers[['p_idx', 'q_idx']])\n",
    "X = enc.transform(df_answers[['p_idx', 'q_idx']])\n",
    "main_block_len = X.shape[0]"
   ]
  },
  {
   "cell_type": "code",
   "execution_count": 55,
   "metadata": {},
   "outputs": [],
   "source": [
    "p_for_smoothing = np.repeat(df_answers['p_idx'].unique(), 150)\n",
    "q_for_smoothing = np.zeros(len(p_for_smoothing))\n",
    "X_smooth = enc.transform(np.stack([p_for_smoothing, q_for_smoothing]).T)"
   ]
  },
  {
   "cell_type": "code",
   "execution_count": 56,
   "metadata": {},
   "outputs": [],
   "source": [
    "X_full = vstack([X, X_smooth])"
   ]
  },
  {
   "cell_type": "code",
   "execution_count": 57,
   "metadata": {},
   "outputs": [],
   "source": [
    "counts = np.array((X_full != 0).sum(axis=0)).ravel()"
   ]
  },
  {
   "cell_type": "code",
   "execution_count": 58,
   "metadata": {},
   "outputs": [],
   "source": [
    "w = np.random.randn(X.shape[1])\n",
    "p = 1 / (1 + np.exp(-X.dot(w)))"
   ]
  },
  {
   "cell_type": "code",
   "execution_count": 59,
   "metadata": {},
   "outputs": [
    {
     "name": "stdout",
     "output_type": "stream",
     "text": [
      "p: [0.55142274 0.19407456 0.43428611 ... 0.84476183 0.4795581  0.5570774 ]\n",
      "z: [0.55248683 0.19444907 0.43512416 ... 0.         0.         0.        ]\n",
      "Wall time: 3.84 s\n"
     ]
    }
   ],
   "source": [
    "%%time\n",
    "z = np.concatenate([e_step(p), np.zeros(len(p_for_smoothing))])\n",
    "print(f'p: {p}')\n",
    "print(f'z: {z}')"
   ]
  },
  {
   "cell_type": "code",
   "execution_count": 60,
   "metadata": {},
   "outputs": [
    {
     "name": "stdout",
     "output_type": "stream",
     "text": [
      "Wall time: 1.31 s\n"
     ]
    },
    {
     "data": {
      "text/plain": [
       "-0.7680294544423637"
      ]
     },
     "execution_count": 60,
     "metadata": {},
     "output_type": "execute_result"
    }
   ],
   "source": [
    "%%time\n",
    "log_likelihood(z, X_full, w)"
   ]
  },
  {
   "cell_type": "code",
   "execution_count": 61,
   "metadata": {},
   "outputs": [
    {
     "data": {
      "application/vnd.jupyter.widget-view+json": {
       "model_id": "85a571e1045b40a1b2c364cbc6fb264a",
       "version_major": 2,
       "version_minor": 0
      },
      "text/plain": [
       "  0%|          | 0/50 [00:00<?, ?it/s]"
      ]
     },
     "metadata": {},
     "output_type": "display_data"
    },
    {
     "name": "stdout",
     "output_type": "stream",
     "text": [
      "Log likelihood after cycle   1: -0.25916235363187545.\n",
      "Log likelihood after cycle   2: -0.22436866225878166.\n",
      "Log likelihood after cycle   3: -0.2157170064774274.\n",
      "Log likelihood after cycle   4: -0.2124418281920785.\n",
      "Log likelihood after cycle   5: -0.2108432675935206.\n",
      "Log likelihood after cycle   6: -0.20991030004109237.\n",
      "Log likelihood after cycle   7: -0.20928733622887208.\n",
      "Log likelihood after cycle   8: -0.208826128193483.\n",
      "Log likelihood after cycle   9: -0.20845660284819195.\n",
      "Log likelihood after cycle  10: -0.20814240555212424.\n",
      "Log likelihood after cycle  11: -0.20786333915689761.\n",
      "Log likelihood after cycle  12: -0.20760760271144027.\n",
      "Log likelihood after cycle  13: -0.20736803509169974.\n",
      "Log likelihood after cycle  14: -0.20714015968970603.\n",
      "Log likelihood after cycle  15: -0.20692110678542464.\n",
      "Log likelihood after cycle  16: -0.20670899361427367.\n",
      "Log likelihood after cycle  17: -0.2065025566767232.\n",
      "Log likelihood after cycle  18: -0.2063009289956206.\n",
      "Log likelihood after cycle  19: -0.20610350308157935.\n",
      "Log likelihood after cycle  20: -0.20590984541609558.\n",
      "Log likelihood after cycle  21: -0.20571964200706017.\n",
      "Log likelihood after cycle  22: -0.20553266252310498.\n",
      "Log likelihood after cycle  23: -0.205348735487614.\n",
      "Log likelihood after cycle  24: -0.20516773030067664.\n",
      "Log likelihood after cycle  25: -0.20498954383017462.\n",
      "Log likelihood after cycle  26: -0.204814090166344.\n",
      "Log likelihood after cycle  27: -0.20464129255560826.\n",
      "Log likelihood after cycle  28: -0.20447107736205972.\n",
      "Log likelihood after cycle  29: -0.20430337079337396.\n",
      "Log likelihood after cycle  30: -0.20413809878345812.\n",
      "Log likelihood after cycle  31: -0.20397518901968212.\n",
      "Log likelihood after cycle  32: -0.2038145733748483.\n",
      "Log likelihood after cycle  33: -0.20365618967104204.\n",
      "Log likelihood after cycle  34: -0.20349998278306466.\n",
      "Log likelihood after cycle  35: -0.20334590549093357.\n",
      "Log likelihood after cycle  36: -0.203193919092867.\n",
      "Log likelihood after cycle  37: -0.20304399323622238.\n",
      "Log likelihood after cycle  38: -0.20289610436895922.\n",
      "Log likelihood after cycle  39: -0.2027502327533951.\n",
      "Log likelihood after cycle  40: -0.20260635868448612.\n",
      "Log likelihood after cycle  41: -0.20246445895067625.\n",
      "Log likelihood after cycle  42: -0.20232450450775474.\n",
      "Log likelihood after cycle  43: -0.20218645988288447.\n",
      "Log likelihood after cycle  44: -0.2020502841742246.\n",
      "Log likelihood after cycle  45: -0.20191593293374446.\n",
      "Log likelihood after cycle  46: -0.20178335998639566.\n",
      "Log likelihood after cycle  47: -0.20165251847291907.\n",
      "Log likelihood after cycle  48: -0.20152336098682483.\n",
      "Log likelihood after cycle  49: -0.20139583924277826.\n",
      "Log likelihood after cycle  50: -0.2012699038797015.\n"
     ]
    }
   ],
   "source": [
    "n_cycles = 50\n",
    "for i in tqdm(range(n_cycles)):\n",
    "    if i == 0:\n",
    "        p = 1 / (1 + np.exp(-X.dot(w)))\n",
    "        z = np.concatenate([e_step(p), np.zeros(len(p_for_smoothing))])\n",
    "    w = m_step(X_full, w, z)\n",
    "    p = 1 / (1 + np.exp(-X.dot(w)))\n",
    "    z = np.concatenate([e_step(p), np.zeros(len(p_for_smoothing))])\n",
    "    print(f'Log likelihood after cycle {i+1:3}: {log_likelihood(z, X_full, w)}.')"
   ]
  },
  {
   "cell_type": "code",
   "execution_count": 62,
   "metadata": {},
   "outputs": [],
   "source": [
    "idx_to_position = {}\n",
    "for i, fname in enumerate(enc.get_feature_names()):\n",
    "    idx_to_position[int(fname[3:])] = i\n",
    "p_weights = pd.Series(np.zeros(len(df_answers['p_idx'].unique())),\n",
    "                      df_answers['p_idx'].unique())\n",
    "for player in df_answers['p_idx'].unique():\n",
    "    p_weights[player] = w[idx_to_position[player]]\n",
    "q_weights = pd.Series(np.zeros(len(df_answers['q_idx'].unique())),\n",
    "                      df_answers['q_idx'].unique())\n",
    "for question in df_answers['q_idx'].unique():\n",
    "    q_weights[question] = w[idx_to_position[question]]"
   ]
  },
  {
   "cell_type": "markdown",
   "metadata": {},
   "source": [
    "Распределение сложности вопросов"
   ]
  },
  {
   "cell_type": "code",
   "execution_count": 63,
   "metadata": {},
   "outputs": [
    {
     "data": {
      "text/plain": [
       "<AxesSubplot:>"
      ]
     },
     "execution_count": 63,
     "metadata": {},
     "output_type": "execute_result"
    },
    {
     "data": {
      "image/png": "[encoded data removed]",
      "text/plain": [
       "<Figure size 432x288 with 1 Axes>"
      ]
     },
     "metadata": {
      "needs_background": "light"
     },
     "output_type": "display_data"
    }
   ],
   "source": [
    "q_weights.hist(bins=100)"
   ]
  },
  {
   "cell_type": "code",
   "execution_count": 64,
   "metadata": {},
   "outputs": [
    {
     "name": "stdout",
     "output_type": "stream",
     "text": [
      "Sanity check: 0.9999684771301578\n"
     ]
    }
   ],
   "source": [
    "n_bins = 100\n",
    "space = np.linspace(q_weights.min(), q_weights.max(), n_bins+1)\n",
    "bounds = np.stack([space[:-1], space[1:]]).T\n",
    "diff_space = bounds.mean(axis=1)\n",
    "diff_probs = np.array([((q_weights >= bound[0]) & (q_weights < bound[1])).sum() for bound in bounds])\n",
    "diff_probs = diff_probs / len(q_weights)\n",
    "print(f'Sanity check: {diff_probs.sum()}')"
   ]
  },
  {
   "cell_type": "code",
   "execution_count": 65,
   "metadata": {},
   "outputs": [
    {
     "data": {
      "image/png": "[encoded data removed]",
      "text/plain": [
       "<Figure size 432x288 with 1 Axes>"
      ]
     },
     "metadata": {
      "needs_background": "light"
     },
     "output_type": "display_data"
    }
   ],
   "source": [
    "plt.plot(diff_space, diff_probs)\n",
    "plt.title('Empirical probabilities')\n",
    "plt.show()"
   ]
  },
  {
   "cell_type": "code",
   "execution_count": 66,
   "metadata": {},
   "outputs": [],
   "source": [
    "p_rates = pd.Series(np.zeros(len(df_answers['p_idx'].unique()), dtype=float),\n",
    "                      index=df_answers['p_idx'].unique())\n",
    "for idx in df_answers['p_idx'].unique():\n",
    "    preds = 1 / (1 + np.exp(-(p_weights[idx] + diff_space)))\n",
    "    rate = np.dot(preds, diff_probs)\n",
    "    p_rates[idx] = rate"
   ]
  },
  {
   "cell_type": "code",
   "execution_count": 67,
   "metadata": {},
   "outputs": [],
   "source": [
    "p_rates.to_csv('data/p_rates_em_smoothed.csv')"
   ]
  },
  {
   "cell_type": "markdown",
   "metadata": {},
   "source": [
    "Распределение рейтингов"
   ]
  },
  {
   "cell_type": "code",
   "execution_count": 68,
   "metadata": {},
   "outputs": [
    {
     "data": {
      "text/plain": [
       "<AxesSubplot:>"
      ]
     },
     "execution_count": 68,
     "metadata": {},
     "output_type": "execute_result"
    },
    {
     "data": {
      "image/png": "[encoded data removed]",
      "text/plain": [
       "<Figure size 432x288 with 1 Axes>"
      ]
     },
     "metadata": {
      "needs_background": "light"
     },
     "output_type": "display_data"
    }
   ],
   "source": [
    "p_rates.hist(bins=100)"
   ]
  },
  {
   "cell_type": "code",
   "execution_count": 69,
   "metadata": {},
   "outputs": [
    {
     "name": "stdout",
     "output_type": "stream",
     "text": [
      "1. Артём Сергеевич Сорожкин: 0.5288349773664892\n",
      "2. Иван Николаевич Семушин: 0.5634762078983041\n",
      "3. Михаил Владимирович Савченков: 0.32963384846761734\n",
      "4. Сергей Леонидович Спешков: 0.39548040190439815\n",
      "5. Максим Михайлович Руссо: 0.4148791045407698\n",
      "6. Александра Владимировна Брутер: 0.2820185460633641\n",
      "7. Александр Витальевич Либер: 0.4790770868856258\n",
      "8. Михаил Ильич Левандовский: 0.20294084767004913\n",
      "9. Ким Гагикович Галачян: 0.30135166537653635\n",
      "10. Сергей Игоревич Николенко: 0.44742788979744685\n"
     ]
    }
   ],
   "source": [
    "top_idxs =[30152, 28751, 27822, 30270, 27403, 4270, 18332, 18036, 6482, 22799]\n",
    "for place, idx in enumerate(top_idxs, 1):\n",
    "    player = players[idx]\n",
    "    print(f\"{place}. {player['name']} {player['patronymic']} {player['surname']}: {p_rates[idx]}\")"
   ]
  },
  {
   "cell_type": "code",
   "execution_count": 70,
   "metadata": {},
   "outputs": [
    {
     "name": "stderr",
     "output_type": "stream",
     "text": [
      "C:\\Users\\Admin\\miniconda3\\lib\\site-packages\\scipy\\stats\\stats.py:4264: SpearmanRConstantInputWarning: An input array is constant; the correlation coefficent is not defined.\n",
      "  warnings.warn(SpearmanRConstantInputWarning())\n"
     ]
    },
    {
     "name": "stdout",
     "output_type": "stream",
     "text": [
      "Average Spearman correlation: 0.7734814747923501\n",
      "Average Kendall correlation: 0.6158008127746476\n"
     ]
    }
   ],
   "source": [
    "num_tournaments = 0\n",
    "spearman_coef = 0\n",
    "kendall_coef = 0\n",
    "for t_idx in tournaments_test.keys():\n",
    "    if not results[t_idx]:\n",
    "        continue\n",
    "    if not 'position' in results[t_idx][0].keys():\n",
    "        continue\n",
    "    ranks_pred = np.zeros(len(results[t_idx]))\n",
    "    ranks_true = np.zeros(len(results[t_idx]))\n",
    "    for i, result in enumerate(results[t_idx]):\n",
    "        ranks_true[i] = result['position']\n",
    "        ranks_pred[i] = evaluate_team(result['teamMembers'])\n",
    "    spearman_coef_curr = sps.spearmanr(ranks_pred, -ranks_true)[0]\n",
    "    kendall_coef_curr = sps.kendalltau(ranks_pred, -ranks_true)[0]\n",
    "    if not (np.isnan(spearman_coef_curr) or np.isnan(kendall_coef_curr)):\n",
    "        spearman_coef += spearman_coef_curr\n",
    "        kendall_coef += kendall_coef_curr\n",
    "        num_tournaments += 1\n",
    "print(f'Average Spearman correlation: {spearman_coef/num_tournaments}')\n",
    "print(f'Average Kendall correlation: {kendall_coef/num_tournaments}')"
   ]
  },
  {
   "cell_type": "code",
   "execution_count": 71,
   "metadata": {},
   "outputs": [
    {
     "data": {
      "text/html": [
       "<div>\n",
       "<style scoped>\n",
       "    .dataframe tbody tr th:only-of-type {\n",
       "        vertical-align: middle;\n",
       "    }\n",
       "\n",
       "    .dataframe tbody tr th {\n",
       "        vertical-align: top;\n",
       "    }\n",
       "\n",
       "    .dataframe thead th {\n",
       "        text-align: right;\n",
       "    }\n",
       "</style>\n",
       "<table border=\"1\" class=\"dataframe\">\n",
       "  <thead>\n",
       "    <tr style=\"text-align: right;\">\n",
       "      <th></th>\n",
       "      <th>name</th>\n",
       "      <th>patronymic</th>\n",
       "      <th>surname</th>\n",
       "      <th>rate</th>\n",
       "      <th>questions</th>\n",
       "    </tr>\n",
       "    <tr>\n",
       "      <th>place</th>\n",
       "      <th></th>\n",
       "      <th></th>\n",
       "      <th></th>\n",
       "      <th></th>\n",
       "      <th></th>\n",
       "    </tr>\n",
       "  </thead>\n",
       "  <tbody>\n",
       "    <tr>\n",
       "      <th>1</th>\n",
       "      <td>Илья</td>\n",
       "      <td>Сергеевич</td>\n",
       "      <td>Немец</td>\n",
       "      <td>0.609868</td>\n",
       "      <td>75</td>\n",
       "    </tr>\n",
       "    <tr>\n",
       "      <th>2</th>\n",
       "      <td>Игорь</td>\n",
       "      <td>Викторович</td>\n",
       "      <td>Мокин</td>\n",
       "      <td>0.577346</td>\n",
       "      <td>1220</td>\n",
       "    </tr>\n",
       "    <tr>\n",
       "      <th>3</th>\n",
       "      <td>Иван</td>\n",
       "      <td>Николаевич</td>\n",
       "      <td>Семушин</td>\n",
       "      <td>0.563476</td>\n",
       "      <td>3718</td>\n",
       "    </tr>\n",
       "    <tr>\n",
       "      <th>4</th>\n",
       "      <td>Александр</td>\n",
       "      <td>Геннадьевич</td>\n",
       "      <td>Коробейников</td>\n",
       "      <td>0.538789</td>\n",
       "      <td>1392</td>\n",
       "    </tr>\n",
       "    <tr>\n",
       "      <th>5</th>\n",
       "      <td>Дмитрий</td>\n",
       "      <td>Александрович</td>\n",
       "      <td>Родионов</td>\n",
       "      <td>0.534254</td>\n",
       "      <td>401</td>\n",
       "    </tr>\n",
       "    <tr>\n",
       "      <th>6</th>\n",
       "      <td>Артём</td>\n",
       "      <td>Сергеевич</td>\n",
       "      <td>Сорожкин</td>\n",
       "      <td>0.528835</td>\n",
       "      <td>4708</td>\n",
       "    </tr>\n",
       "    <tr>\n",
       "      <th>7</th>\n",
       "      <td>Евгений</td>\n",
       "      <td>Павлович</td>\n",
       "      <td>Спектор</td>\n",
       "      <td>0.528638</td>\n",
       "      <td>244</td>\n",
       "    </tr>\n",
       "    <tr>\n",
       "      <th>8</th>\n",
       "      <td>Светлана</td>\n",
       "      <td>Анатольевна</td>\n",
       "      <td>Гусарова</td>\n",
       "      <td>0.527339</td>\n",
       "      <td>111</td>\n",
       "    </tr>\n",
       "    <tr>\n",
       "      <th>9</th>\n",
       "      <td>Александр</td>\n",
       "      <td>Валерьевич</td>\n",
       "      <td>Марков</td>\n",
       "      <td>0.525120</td>\n",
       "      <td>2877</td>\n",
       "    </tr>\n",
       "    <tr>\n",
       "      <th>10</th>\n",
       "      <td>Алексей</td>\n",
       "      <td>Владимирович</td>\n",
       "      <td>Гилёв</td>\n",
       "      <td>0.524546</td>\n",
       "      <td>4334</td>\n",
       "    </tr>\n",
       "    <tr>\n",
       "      <th>11</th>\n",
       "      <td>Михаил</td>\n",
       "      <td>Сергеевич</td>\n",
       "      <td>Царёв</td>\n",
       "      <td>0.524233</td>\n",
       "      <td>426</td>\n",
       "    </tr>\n",
       "    <tr>\n",
       "      <th>12</th>\n",
       "      <td>Андрей</td>\n",
       "      <td>Александрович</td>\n",
       "      <td>Волыхов</td>\n",
       "      <td>0.520860</td>\n",
       "      <td>4059</td>\n",
       "    </tr>\n",
       "    <tr>\n",
       "      <th>13</th>\n",
       "      <td>Сусанна</td>\n",
       "      <td>Марковна</td>\n",
       "      <td>Бровер</td>\n",
       "      <td>0.518442</td>\n",
       "      <td>640</td>\n",
       "    </tr>\n",
       "    <tr>\n",
       "      <th>14</th>\n",
       "      <td>Антон</td>\n",
       "      <td>Андреевич</td>\n",
       "      <td>Мартыненко</td>\n",
       "      <td>0.509582</td>\n",
       "      <td>2403</td>\n",
       "    </tr>\n",
       "    <tr>\n",
       "      <th>15</th>\n",
       "      <td>Александр</td>\n",
       "      <td>Александрович</td>\n",
       "      <td>Верёвкин</td>\n",
       "      <td>0.508342</td>\n",
       "      <td>466</td>\n",
       "    </tr>\n",
       "    <tr>\n",
       "      <th>16</th>\n",
       "      <td>Дмитрий</td>\n",
       "      <td>Владимирович</td>\n",
       "      <td>Борок</td>\n",
       "      <td>0.495804</td>\n",
       "      <td>692</td>\n",
       "    </tr>\n",
       "    <tr>\n",
       "      <th>17</th>\n",
       "      <td>Михаил</td>\n",
       "      <td>Андреевич</td>\n",
       "      <td>Новосёлов</td>\n",
       "      <td>0.492781</td>\n",
       "      <td>2986</td>\n",
       "    </tr>\n",
       "    <tr>\n",
       "      <th>18</th>\n",
       "      <td>Илья</td>\n",
       "      <td>Сергеевич</td>\n",
       "      <td>Новиков</td>\n",
       "      <td>0.489770</td>\n",
       "      <td>1447</td>\n",
       "    </tr>\n",
       "    <tr>\n",
       "      <th>19</th>\n",
       "      <td>Михаил</td>\n",
       "      <td>Анатольевич</td>\n",
       "      <td>Карпук</td>\n",
       "      <td>0.489109</td>\n",
       "      <td>3503</td>\n",
       "    </tr>\n",
       "    <tr>\n",
       "      <th>20</th>\n",
       "      <td>Станислав</td>\n",
       "      <td>Григорьевич</td>\n",
       "      <td>Мереминский</td>\n",
       "      <td>0.486644</td>\n",
       "      <td>1616</td>\n",
       "    </tr>\n",
       "  </tbody>\n",
       "</table>\n",
       "</div>"
      ],
      "text/plain": [
       "            name     patronymic       surname      rate  questions\n",
       "place                                                             \n",
       "1           Илья      Сергеевич         Немец  0.609868         75\n",
       "2          Игорь     Викторович         Мокин  0.577346       1220\n",
       "3           Иван     Николаевич       Семушин  0.563476       3718\n",
       "4      Александр    Геннадьевич  Коробейников  0.538789       1392\n",
       "5        Дмитрий  Александрович      Родионов  0.534254        401\n",
       "6          Артём      Сергеевич      Сорожкин  0.528835       4708\n",
       "7        Евгений       Павлович       Спектор  0.528638        244\n",
       "8       Светлана    Анатольевна      Гусарова  0.527339        111\n",
       "9      Александр     Валерьевич        Марков  0.525120       2877\n",
       "10       Алексей   Владимирович         Гилёв  0.524546       4334\n",
       "11        Михаил      Сергеевич         Царёв  0.524233        426\n",
       "12        Андрей  Александрович       Волыхов  0.520860       4059\n",
       "13       Сусанна       Марковна        Бровер  0.518442        640\n",
       "14         Антон      Андреевич    Мартыненко  0.509582       2403\n",
       "15     Александр  Александрович      Верёвкин  0.508342        466\n",
       "16       Дмитрий   Владимирович         Борок  0.495804        692\n",
       "17        Михаил      Андреевич     Новосёлов  0.492781       2986\n",
       "18          Илья      Сергеевич       Новиков  0.489770       1447\n",
       "19        Михаил    Анатольевич        Карпук  0.489109       3503\n",
       "20     Станислав    Григорьевич   Мереминский  0.486644       1616"
      ]
     },
     "execution_count": 71,
     "metadata": {},
     "output_type": "execute_result"
    }
   ],
   "source": [
    "make_top_table(min_questions=0)"
   ]
  },
  {
   "cell_type": "markdown",
   "metadata": {},
   "source": [
    "Как видно, в топ сглаженной модели попали уже игроки с большим количеством вопросов."
   ]
  }
 ],
 "metadata": {
  "kernelspec": {
   "display_name": "Python 3",
   "language": "python",
   "name": "python3"
  },
  "language_info": {
   "codemirror_mode": {
    "name": "ipython",
    "version": 3
   },
   "file_extension": ".py",
   "mimetype": "text/x-python",
   "name": "python",
   "nbconvert_exporter": "python",
   "pygments_lexer": "ipython3",
   "version": "3.7.10"
  }
 },
 "nbformat": 4,
 "nbformat_minor": 4
}
